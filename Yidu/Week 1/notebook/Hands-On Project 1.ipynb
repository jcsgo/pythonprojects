{
 "cells": [
  {
   "cell_type": "markdown",
   "metadata": {},
   "source": [
    "# Master Data Science In 4 Weeks\n",
    "\n",
    "## Hands-On Project 1: The Pipeline of Machine Learning"
   ]
  },
  {
   "cell_type": "markdown",
   "metadata": {},
   "source": [
    "In this hands-on project, we will show the **Pipeline of Machine Learning Project** using the housing price prediction example. \n",
    "\n",
    "When solving the real data science problem using machine learning techniques, experienced data scientists usually have the following checklist in mind.\n",
    "\n",
    "- Understand the problem and draw the big picture. \n",
    "- Get the data. \n",
    "- **Explore the data**: gain some insights.\n",
    "- **Data preprocessing** and **feature engineering**. \n",
    "- Explore some reasonable **machine learning models** and shortlist the best ones. \n",
    "- **Fine-tune** your models and combine them to get a better one. \n",
    "- Present your solution. \n",
    "- Launch, monitor and maintain your system.  \n",
    "\n",
    "In this project, we will show the pipeline step by step. "
   ]
  },
  {
   "cell_type": "markdown",
   "metadata": {},
   "source": [
    "## 0. Problem Description\n",
    "\n",
    "In this hands-on project, we will show the **Pipeline of Machine Learning Project** using the **housing price prediction** example. The data could be download at [Kaggle](https://www.kaggle.com/c/house-prices-advanced-regression-techniques).\n",
    "\n",
    "The reasons we use this example are following:\n",
    "\n",
    "1. This is a real problem you may meet in your life. For example, if you want to buy a new house, this may help you to estimate the price. \n",
    "2. This dataset is not clean, it's suitable for us to show some common used data cleaning and feature engineering techniques. \n",
    "3. The dataset is suitable for beginners to get start. \n",
    "4. A similar dataset for house price in Singapore could be provided for you to explore by yourself.\n",
    "\n",
    "**Hope you can enjoy it.**"
   ]
  },
  {
   "cell_type": "markdown",
   "metadata": {},
   "source": [
    "## 1.1 Set Up\n",
    "\n",
    "First, we will import some common used libraries in the following four weeks. "
   ]
  },
  {
   "cell_type": "code",
   "execution_count": 1,
   "metadata": {
    "collapsed": true
   },
   "outputs": [],
   "source": [
    "# To support both python 2 and python 3\n",
    "from __future__ import division, print_function, unicode_literals\n",
    "\n",
    "# Common imports\n",
    "import numpy as np\n",
    "import os\n",
    "import pandas as pd\n",
    "import seaborn as sns\n",
    "\n",
    "# to make this notebook's output stable across runs\n",
    "np.random.seed(42)\n",
    "\n",
    "# To plot pretty figures\n",
    "%matplotlib inline\n",
    "import matplotlib\n",
    "import matplotlib.pyplot as plt\n",
    "\n",
    "# Import some statics\n",
    "from scipy.stats import skew\n",
    "from scipy.stats.stats import pearsonr"
   ]
  },
  {
   "cell_type": "markdown",
   "metadata": {},
   "source": [
    "## 1.2 Load Data\n",
    "**Pandas** is the most popular library in Python to handle data frame.  "
   ]
  },
  {
   "cell_type": "code",
   "execution_count": 2,
   "metadata": {
    "collapsed": true,
    "scrolled": true
   },
   "outputs": [],
   "source": [
    "# Set the relative director for training data\n",
    "root_dir = \".\"\n",
    "train_data_dir = root_dir + \"/datasets/train.csv\"\n",
    "\n",
    "# read the data frame\n",
    "train_data = pd.read_csv(train_data_dir)\n",
    "\n",
    "# Print out some data samples\n",
    "train_data.head()\n",
    "\n",
    "#save index\n",
    "\n",
    "index_array = train_data['Id']"
   ]
  },
  {
   "cell_type": "markdown",
   "metadata": {},
   "source": [
    "## 2 Explore the data and gain some insights\n",
    "\n",
    "In this part, we will visualize the dataset to help us to understand the data better. This is one of the most important steps when you try to analyze and understand your problem and data. "
   ]
  },
  {
   "cell_type": "markdown",
   "metadata": {
    "collapsed": true
   },
   "source": [
    "### 2.1 Get a summary of your dataset with one line code\n",
    "\n",
    "In pandas, there is a very useful function called **describe()**, this function can generate a summary for the dataframe. "
   ]
  },
  {
   "cell_type": "code",
   "execution_count": 3,
   "metadata": {},
   "outputs": [
    {
     "name": "stdout",
     "output_type": "stream",
     "text": [
      "Index(['Id', 'MSSubClass', 'MSZoning', 'LotFrontage', 'LotArea', 'Street',\n",
      "       'Alley', 'LotShape', 'LandContour', 'Utilities', 'LotConfig',\n",
      "       'LandSlope', 'Neighborhood', 'Condition1', 'Condition2', 'BldgType',\n",
      "       'HouseStyle', 'OverallQual', 'OverallCond', 'YearBuilt', 'YearRemodAdd',\n",
      "       'RoofStyle', 'RoofMatl', 'Exterior1st', 'Exterior2nd', 'MasVnrType',\n",
      "       'MasVnrArea', 'ExterQual', 'ExterCond', 'Foundation', 'BsmtQual',\n",
      "       'BsmtCond', 'BsmtExposure', 'BsmtFinType1', 'BsmtFinSF1',\n",
      "       'BsmtFinType2', 'BsmtFinSF2', 'BsmtUnfSF', 'TotalBsmtSF', 'Heating',\n",
      "       'HeatingQC', 'CentralAir', 'Electrical', '1stFlrSF', '2ndFlrSF',\n",
      "       'LowQualFinSF', 'GrLivArea', 'BsmtFullBath', 'BsmtHalfBath', 'FullBath',\n",
      "       'HalfBath', 'BedroomAbvGr', 'KitchenAbvGr', 'KitchenQual',\n",
      "       'TotRmsAbvGrd', 'Functional', 'Fireplaces', 'FireplaceQu', 'GarageType',\n",
      "       'GarageYrBlt', 'GarageFinish', 'GarageCars', 'GarageArea', 'GarageQual',\n",
      "       'GarageCond', 'PavedDrive', 'WoodDeckSF', 'OpenPorchSF',\n",
      "       'EnclosedPorch', '3SsnPorch', 'ScreenPorch', 'PoolArea', 'PoolQC',\n",
      "       'Fence', 'MiscFeature', 'MiscVal', 'MoSold', 'YrSold', 'SaleType',\n",
      "       'SaleCondition', 'SalePrice'],\n",
      "      dtype='object')\n"
     ]
    },
    {
     "data": {
      "text/html": [
       "<div>\n",
       "<style>\n",
       "    .dataframe thead tr:only-child th {\n",
       "        text-align: right;\n",
       "    }\n",
       "\n",
       "    .dataframe thead th {\n",
       "        text-align: left;\n",
       "    }\n",
       "\n",
       "    .dataframe tbody tr th {\n",
       "        vertical-align: top;\n",
       "    }\n",
       "</style>\n",
       "<table border=\"1\" class=\"dataframe\">\n",
       "  <thead>\n",
       "    <tr style=\"text-align: right;\">\n",
       "      <th></th>\n",
       "      <th>Id</th>\n",
       "      <th>MSSubClass</th>\n",
       "      <th>LotFrontage</th>\n",
       "      <th>LotArea</th>\n",
       "      <th>OverallQual</th>\n",
       "      <th>OverallCond</th>\n",
       "      <th>YearBuilt</th>\n",
       "      <th>YearRemodAdd</th>\n",
       "      <th>MasVnrArea</th>\n",
       "      <th>BsmtFinSF1</th>\n",
       "      <th>...</th>\n",
       "      <th>WoodDeckSF</th>\n",
       "      <th>OpenPorchSF</th>\n",
       "      <th>EnclosedPorch</th>\n",
       "      <th>3SsnPorch</th>\n",
       "      <th>ScreenPorch</th>\n",
       "      <th>PoolArea</th>\n",
       "      <th>MiscVal</th>\n",
       "      <th>MoSold</th>\n",
       "      <th>YrSold</th>\n",
       "      <th>SalePrice</th>\n",
       "    </tr>\n",
       "  </thead>\n",
       "  <tbody>\n",
       "    <tr>\n",
       "      <th>count</th>\n",
       "      <td>1460.000000</td>\n",
       "      <td>1460.000000</td>\n",
       "      <td>1201.000000</td>\n",
       "      <td>1460.000000</td>\n",
       "      <td>1460.000000</td>\n",
       "      <td>1460.000000</td>\n",
       "      <td>1460.000000</td>\n",
       "      <td>1460.000000</td>\n",
       "      <td>1452.000000</td>\n",
       "      <td>1460.000000</td>\n",
       "      <td>...</td>\n",
       "      <td>1460.000000</td>\n",
       "      <td>1460.000000</td>\n",
       "      <td>1460.000000</td>\n",
       "      <td>1460.000000</td>\n",
       "      <td>1460.000000</td>\n",
       "      <td>1460.000000</td>\n",
       "      <td>1460.000000</td>\n",
       "      <td>1460.000000</td>\n",
       "      <td>1460.000000</td>\n",
       "      <td>1460.000000</td>\n",
       "    </tr>\n",
       "    <tr>\n",
       "      <th>mean</th>\n",
       "      <td>730.500000</td>\n",
       "      <td>56.897260</td>\n",
       "      <td>70.049958</td>\n",
       "      <td>10516.828082</td>\n",
       "      <td>6.099315</td>\n",
       "      <td>5.575342</td>\n",
       "      <td>1971.267808</td>\n",
       "      <td>1984.865753</td>\n",
       "      <td>103.685262</td>\n",
       "      <td>443.639726</td>\n",
       "      <td>...</td>\n",
       "      <td>94.244521</td>\n",
       "      <td>46.660274</td>\n",
       "      <td>21.954110</td>\n",
       "      <td>3.409589</td>\n",
       "      <td>15.060959</td>\n",
       "      <td>2.758904</td>\n",
       "      <td>43.489041</td>\n",
       "      <td>6.321918</td>\n",
       "      <td>2007.815753</td>\n",
       "      <td>180921.195890</td>\n",
       "    </tr>\n",
       "    <tr>\n",
       "      <th>std</th>\n",
       "      <td>421.610009</td>\n",
       "      <td>42.300571</td>\n",
       "      <td>24.284752</td>\n",
       "      <td>9981.264932</td>\n",
       "      <td>1.382997</td>\n",
       "      <td>1.112799</td>\n",
       "      <td>30.202904</td>\n",
       "      <td>20.645407</td>\n",
       "      <td>181.066207</td>\n",
       "      <td>456.098091</td>\n",
       "      <td>...</td>\n",
       "      <td>125.338794</td>\n",
       "      <td>66.256028</td>\n",
       "      <td>61.119149</td>\n",
       "      <td>29.317331</td>\n",
       "      <td>55.757415</td>\n",
       "      <td>40.177307</td>\n",
       "      <td>496.123024</td>\n",
       "      <td>2.703626</td>\n",
       "      <td>1.328095</td>\n",
       "      <td>79442.502883</td>\n",
       "    </tr>\n",
       "    <tr>\n",
       "      <th>min</th>\n",
       "      <td>1.000000</td>\n",
       "      <td>20.000000</td>\n",
       "      <td>21.000000</td>\n",
       "      <td>1300.000000</td>\n",
       "      <td>1.000000</td>\n",
       "      <td>1.000000</td>\n",
       "      <td>1872.000000</td>\n",
       "      <td>1950.000000</td>\n",
       "      <td>0.000000</td>\n",
       "      <td>0.000000</td>\n",
       "      <td>...</td>\n",
       "      <td>0.000000</td>\n",
       "      <td>0.000000</td>\n",
       "      <td>0.000000</td>\n",
       "      <td>0.000000</td>\n",
       "      <td>0.000000</td>\n",
       "      <td>0.000000</td>\n",
       "      <td>0.000000</td>\n",
       "      <td>1.000000</td>\n",
       "      <td>2006.000000</td>\n",
       "      <td>34900.000000</td>\n",
       "    </tr>\n",
       "    <tr>\n",
       "      <th>25%</th>\n",
       "      <td>365.750000</td>\n",
       "      <td>20.000000</td>\n",
       "      <td>59.000000</td>\n",
       "      <td>7553.500000</td>\n",
       "      <td>5.000000</td>\n",
       "      <td>5.000000</td>\n",
       "      <td>1954.000000</td>\n",
       "      <td>1967.000000</td>\n",
       "      <td>0.000000</td>\n",
       "      <td>0.000000</td>\n",
       "      <td>...</td>\n",
       "      <td>0.000000</td>\n",
       "      <td>0.000000</td>\n",
       "      <td>0.000000</td>\n",
       "      <td>0.000000</td>\n",
       "      <td>0.000000</td>\n",
       "      <td>0.000000</td>\n",
       "      <td>0.000000</td>\n",
       "      <td>5.000000</td>\n",
       "      <td>2007.000000</td>\n",
       "      <td>129975.000000</td>\n",
       "    </tr>\n",
       "    <tr>\n",
       "      <th>50%</th>\n",
       "      <td>730.500000</td>\n",
       "      <td>50.000000</td>\n",
       "      <td>69.000000</td>\n",
       "      <td>9478.500000</td>\n",
       "      <td>6.000000</td>\n",
       "      <td>5.000000</td>\n",
       "      <td>1973.000000</td>\n",
       "      <td>1994.000000</td>\n",
       "      <td>0.000000</td>\n",
       "      <td>383.500000</td>\n",
       "      <td>...</td>\n",
       "      <td>0.000000</td>\n",
       "      <td>25.000000</td>\n",
       "      <td>0.000000</td>\n",
       "      <td>0.000000</td>\n",
       "      <td>0.000000</td>\n",
       "      <td>0.000000</td>\n",
       "      <td>0.000000</td>\n",
       "      <td>6.000000</td>\n",
       "      <td>2008.000000</td>\n",
       "      <td>163000.000000</td>\n",
       "    </tr>\n",
       "    <tr>\n",
       "      <th>75%</th>\n",
       "      <td>1095.250000</td>\n",
       "      <td>70.000000</td>\n",
       "      <td>80.000000</td>\n",
       "      <td>11601.500000</td>\n",
       "      <td>7.000000</td>\n",
       "      <td>6.000000</td>\n",
       "      <td>2000.000000</td>\n",
       "      <td>2004.000000</td>\n",
       "      <td>166.000000</td>\n",
       "      <td>712.250000</td>\n",
       "      <td>...</td>\n",
       "      <td>168.000000</td>\n",
       "      <td>68.000000</td>\n",
       "      <td>0.000000</td>\n",
       "      <td>0.000000</td>\n",
       "      <td>0.000000</td>\n",
       "      <td>0.000000</td>\n",
       "      <td>0.000000</td>\n",
       "      <td>8.000000</td>\n",
       "      <td>2009.000000</td>\n",
       "      <td>214000.000000</td>\n",
       "    </tr>\n",
       "    <tr>\n",
       "      <th>max</th>\n",
       "      <td>1460.000000</td>\n",
       "      <td>190.000000</td>\n",
       "      <td>313.000000</td>\n",
       "      <td>215245.000000</td>\n",
       "      <td>10.000000</td>\n",
       "      <td>9.000000</td>\n",
       "      <td>2010.000000</td>\n",
       "      <td>2010.000000</td>\n",
       "      <td>1600.000000</td>\n",
       "      <td>5644.000000</td>\n",
       "      <td>...</td>\n",
       "      <td>857.000000</td>\n",
       "      <td>547.000000</td>\n",
       "      <td>552.000000</td>\n",
       "      <td>508.000000</td>\n",
       "      <td>480.000000</td>\n",
       "      <td>738.000000</td>\n",
       "      <td>15500.000000</td>\n",
       "      <td>12.000000</td>\n",
       "      <td>2010.000000</td>\n",
       "      <td>755000.000000</td>\n",
       "    </tr>\n",
       "  </tbody>\n",
       "</table>\n",
       "<p>8 rows × 38 columns</p>\n",
       "</div>"
      ],
      "text/plain": [
       "                Id   MSSubClass  LotFrontage        LotArea  OverallQual  \\\n",
       "count  1460.000000  1460.000000  1201.000000    1460.000000  1460.000000   \n",
       "mean    730.500000    56.897260    70.049958   10516.828082     6.099315   \n",
       "std     421.610009    42.300571    24.284752    9981.264932     1.382997   \n",
       "min       1.000000    20.000000    21.000000    1300.000000     1.000000   \n",
       "25%     365.750000    20.000000    59.000000    7553.500000     5.000000   \n",
       "50%     730.500000    50.000000    69.000000    9478.500000     6.000000   \n",
       "75%    1095.250000    70.000000    80.000000   11601.500000     7.000000   \n",
       "max    1460.000000   190.000000   313.000000  215245.000000    10.000000   \n",
       "\n",
       "       OverallCond    YearBuilt  YearRemodAdd   MasVnrArea   BsmtFinSF1  \\\n",
       "count  1460.000000  1460.000000   1460.000000  1452.000000  1460.000000   \n",
       "mean      5.575342  1971.267808   1984.865753   103.685262   443.639726   \n",
       "std       1.112799    30.202904     20.645407   181.066207   456.098091   \n",
       "min       1.000000  1872.000000   1950.000000     0.000000     0.000000   \n",
       "25%       5.000000  1954.000000   1967.000000     0.000000     0.000000   \n",
       "50%       5.000000  1973.000000   1994.000000     0.000000   383.500000   \n",
       "75%       6.000000  2000.000000   2004.000000   166.000000   712.250000   \n",
       "max       9.000000  2010.000000   2010.000000  1600.000000  5644.000000   \n",
       "\n",
       "           ...         WoodDeckSF  OpenPorchSF  EnclosedPorch    3SsnPorch  \\\n",
       "count      ...        1460.000000  1460.000000    1460.000000  1460.000000   \n",
       "mean       ...          94.244521    46.660274      21.954110     3.409589   \n",
       "std        ...         125.338794    66.256028      61.119149    29.317331   \n",
       "min        ...           0.000000     0.000000       0.000000     0.000000   \n",
       "25%        ...           0.000000     0.000000       0.000000     0.000000   \n",
       "50%        ...           0.000000    25.000000       0.000000     0.000000   \n",
       "75%        ...         168.000000    68.000000       0.000000     0.000000   \n",
       "max        ...         857.000000   547.000000     552.000000   508.000000   \n",
       "\n",
       "       ScreenPorch     PoolArea       MiscVal       MoSold       YrSold  \\\n",
       "count  1460.000000  1460.000000   1460.000000  1460.000000  1460.000000   \n",
       "mean     15.060959     2.758904     43.489041     6.321918  2007.815753   \n",
       "std      55.757415    40.177307    496.123024     2.703626     1.328095   \n",
       "min       0.000000     0.000000      0.000000     1.000000  2006.000000   \n",
       "25%       0.000000     0.000000      0.000000     5.000000  2007.000000   \n",
       "50%       0.000000     0.000000      0.000000     6.000000  2008.000000   \n",
       "75%       0.000000     0.000000      0.000000     8.000000  2009.000000   \n",
       "max     480.000000   738.000000  15500.000000    12.000000  2010.000000   \n",
       "\n",
       "           SalePrice  \n",
       "count    1460.000000  \n",
       "mean   180921.195890  \n",
       "std     79442.502883  \n",
       "min     34900.000000  \n",
       "25%    129975.000000  \n",
       "50%    163000.000000  \n",
       "75%    214000.000000  \n",
       "max    755000.000000  \n",
       "\n",
       "[8 rows x 38 columns]"
      ]
     },
     "execution_count": 3,
     "metadata": {},
     "output_type": "execute_result"
    }
   ],
   "source": [
    "print(train_data.columns)\n",
    "train_data.describe()"
   ]
  },
  {
   "cell_type": "markdown",
   "metadata": {},
   "source": [
    "### 2.2 Look at the distribution of target variable"
   ]
  },
  {
   "cell_type": "code",
   "execution_count": 4,
   "metadata": {},
   "outputs": [
    {
     "data": {
      "text/plain": [
       "<matplotlib.axes._subplots.AxesSubplot at 0x1114ac588>"
      ]
     },
     "execution_count": 4,
     "metadata": {},
     "output_type": "execute_result"
    },
    {
     "data": {
      "image/png": "[encoded data removed]",
      "text/plain": [
       "<matplotlib.figure.Figure at 0x1114acf28>"
      ]
     },
     "metadata": {},
     "output_type": "display_data"
    }
   ],
   "source": [
    "matplotlib.rcParams['figure.figsize'] = (6.0, 6.0)\n",
    "train_data['SalePrice'].hist()"
   ]
  },
  {
   "cell_type": "markdown",
   "metadata": {},
   "source": [
    "We can see that the **SalePrice** is skewed. We will see later how can we handle this. "
   ]
  },
  {
   "cell_type": "markdown",
   "metadata": {},
   "source": [
    "### 2.3 Explore some relations between selected features and target variable\n",
    "\n",
    "Correlation is a statistical value to imply the linear relationship between two variables. One way to explore the relations between features and target variable is to visualize the correlation between features and target variable. This is just a very rough idea, since correlations can only imply the **linear relationships** between two variables. "
   ]
  },
  {
   "cell_type": "code",
   "execution_count": 31,
   "metadata": {},
   "outputs": [
    {
     "data": {
      "text/html": [
       "<div>\n",
       "<style>\n",
       "    .dataframe thead tr:only-child th {\n",
       "        text-align: right;\n",
       "    }\n",
       "\n",
       "    .dataframe thead th {\n",
       "        text-align: left;\n",
       "    }\n",
       "\n",
       "    .dataframe tbody tr th {\n",
       "        vertical-align: top;\n",
       "    }\n",
       "</style>\n",
       "<table border=\"1\" class=\"dataframe\">\n",
       "  <thead>\n",
       "    <tr style=\"text-align: right;\">\n",
       "      <th></th>\n",
       "      <th>Id</th>\n",
       "      <th>MSSubClass</th>\n",
       "      <th>MSZoning</th>\n",
       "      <th>LotFrontage</th>\n",
       "      <th>LotArea</th>\n",
       "      <th>Street</th>\n",
       "      <th>Alley</th>\n",
       "      <th>LotShape</th>\n",
       "      <th>LandContour</th>\n",
       "      <th>Utilities</th>\n",
       "      <th>...</th>\n",
       "      <th>PoolArea</th>\n",
       "      <th>PoolQC</th>\n",
       "      <th>Fence</th>\n",
       "      <th>MiscFeature</th>\n",
       "      <th>MiscVal</th>\n",
       "      <th>MoSold</th>\n",
       "      <th>YrSold</th>\n",
       "      <th>SaleType</th>\n",
       "      <th>SaleCondition</th>\n",
       "      <th>SalePrice</th>\n",
       "    </tr>\n",
       "  </thead>\n",
       "  <tbody>\n",
       "    <tr>\n",
       "      <th>0</th>\n",
       "      <td>1</td>\n",
       "      <td>60</td>\n",
       "      <td>RL</td>\n",
       "      <td>65.0</td>\n",
       "      <td>8450</td>\n",
       "      <td>Pave</td>\n",
       "      <td>NaN</td>\n",
       "      <td>Reg</td>\n",
       "      <td>Lvl</td>\n",
       "      <td>AllPub</td>\n",
       "      <td>...</td>\n",
       "      <td>0</td>\n",
       "      <td>NaN</td>\n",
       "      <td>NaN</td>\n",
       "      <td>NaN</td>\n",
       "      <td>0</td>\n",
       "      <td>2</td>\n",
       "      <td>2008</td>\n",
       "      <td>WD</td>\n",
       "      <td>Normal</td>\n",
       "      <td>208500</td>\n",
       "    </tr>\n",
       "    <tr>\n",
       "      <th>1</th>\n",
       "      <td>2</td>\n",
       "      <td>20</td>\n",
       "      <td>RL</td>\n",
       "      <td>80.0</td>\n",
       "      <td>9600</td>\n",
       "      <td>Pave</td>\n",
       "      <td>NaN</td>\n",
       "      <td>Reg</td>\n",
       "      <td>Lvl</td>\n",
       "      <td>AllPub</td>\n",
       "      <td>...</td>\n",
       "      <td>0</td>\n",
       "      <td>NaN</td>\n",
       "      <td>NaN</td>\n",
       "      <td>NaN</td>\n",
       "      <td>0</td>\n",
       "      <td>5</td>\n",
       "      <td>2007</td>\n",
       "      <td>WD</td>\n",
       "      <td>Normal</td>\n",
       "      <td>181500</td>\n",
       "    </tr>\n",
       "    <tr>\n",
       "      <th>2</th>\n",
       "      <td>3</td>\n",
       "      <td>60</td>\n",
       "      <td>RL</td>\n",
       "      <td>68.0</td>\n",
       "      <td>11250</td>\n",
       "      <td>Pave</td>\n",
       "      <td>NaN</td>\n",
       "      <td>IR1</td>\n",
       "      <td>Lvl</td>\n",
       "      <td>AllPub</td>\n",
       "      <td>...</td>\n",
       "      <td>0</td>\n",
       "      <td>NaN</td>\n",
       "      <td>NaN</td>\n",
       "      <td>NaN</td>\n",
       "      <td>0</td>\n",
       "      <td>9</td>\n",
       "      <td>2008</td>\n",
       "      <td>WD</td>\n",
       "      <td>Normal</td>\n",
       "      <td>223500</td>\n",
       "    </tr>\n",
       "    <tr>\n",
       "      <th>3</th>\n",
       "      <td>4</td>\n",
       "      <td>70</td>\n",
       "      <td>RL</td>\n",
       "      <td>60.0</td>\n",
       "      <td>9550</td>\n",
       "      <td>Pave</td>\n",
       "      <td>NaN</td>\n",
       "      <td>IR1</td>\n",
       "      <td>Lvl</td>\n",
       "      <td>AllPub</td>\n",
       "      <td>...</td>\n",
       "      <td>0</td>\n",
       "      <td>NaN</td>\n",
       "      <td>NaN</td>\n",
       "      <td>NaN</td>\n",
       "      <td>0</td>\n",
       "      <td>2</td>\n",
       "      <td>2006</td>\n",
       "      <td>WD</td>\n",
       "      <td>Abnorml</td>\n",
       "      <td>140000</td>\n",
       "    </tr>\n",
       "    <tr>\n",
       "      <th>4</th>\n",
       "      <td>5</td>\n",
       "      <td>60</td>\n",
       "      <td>RL</td>\n",
       "      <td>84.0</td>\n",
       "      <td>14260</td>\n",
       "      <td>Pave</td>\n",
       "      <td>NaN</td>\n",
       "      <td>IR1</td>\n",
       "      <td>Lvl</td>\n",
       "      <td>AllPub</td>\n",
       "      <td>...</td>\n",
       "      <td>0</td>\n",
       "      <td>NaN</td>\n",
       "      <td>NaN</td>\n",
       "      <td>NaN</td>\n",
       "      <td>0</td>\n",
       "      <td>12</td>\n",
       "      <td>2008</td>\n",
       "      <td>WD</td>\n",
       "      <td>Normal</td>\n",
       "      <td>250000</td>\n",
       "    </tr>\n",
       "  </tbody>\n",
       "</table>\n",
       "<p>5 rows × 81 columns</p>\n",
       "</div>"
      ],
      "text/plain": [
       "   Id  MSSubClass MSZoning  LotFrontage  LotArea Street Alley LotShape  \\\n",
       "0   1          60       RL         65.0     8450   Pave   NaN      Reg   \n",
       "1   2          20       RL         80.0     9600   Pave   NaN      Reg   \n",
       "2   3          60       RL         68.0    11250   Pave   NaN      IR1   \n",
       "3   4          70       RL         60.0     9550   Pave   NaN      IR1   \n",
       "4   5          60       RL         84.0    14260   Pave   NaN      IR1   \n",
       "\n",
       "  LandContour Utilities    ...     PoolArea PoolQC Fence MiscFeature MiscVal  \\\n",
       "0         Lvl    AllPub    ...            0    NaN   NaN         NaN       0   \n",
       "1         Lvl    AllPub    ...            0    NaN   NaN         NaN       0   \n",
       "2         Lvl    AllPub    ...            0    NaN   NaN         NaN       0   \n",
       "3         Lvl    AllPub    ...            0    NaN   NaN         NaN       0   \n",
       "4         Lvl    AllPub    ...            0    NaN   NaN         NaN       0   \n",
       "\n",
       "  MoSold YrSold  SaleType  SaleCondition  SalePrice  \n",
       "0      2   2008        WD         Normal     208500  \n",
       "1      5   2007        WD         Normal     181500  \n",
       "2      9   2008        WD         Normal     223500  \n",
       "3      2   2006        WD        Abnorml     140000  \n",
       "4     12   2008        WD         Normal     250000  \n",
       "\n",
       "[5 rows x 81 columns]"
      ]
     },
     "execution_count": 31,
     "metadata": {},
     "output_type": "execute_result"
    }
   ],
   "source": [
    "train_data.head()"
   ]
  },
  {
   "cell_type": "code",
   "execution_count": 5,
   "metadata": {},
   "outputs": [
    {
     "data": {
      "image/png": "[encoded data removed]",
      "text/plain": [
       "<matplotlib.figure.Figure at 0x10bc220f0>"
      ]
     },
     "metadata": {},
     "output_type": "display_data"
    }
   ],
   "source": [
    "#saleprice correlation matrix\n",
    "corrmat = train_data.loc[:,'MSSubClass':'SalePrice'].corr()\n",
    "k = 10 #number of variables for heatmap\n",
    "cols = corrmat.nlargest(k, 'SalePrice')['SalePrice'].index\n",
    "cm = np.corrcoef(train_data[cols].values.T)\n",
    "sns.set(font_scale=1.25)\n",
    "hm = sns.heatmap(cm, cbar=True, annot=True, square=True, fmt='.2f', annot_kws={'size': 10}, yticklabels=cols.values, xticklabels=cols.values)\n",
    "plt.show()"
   ]
  },
  {
   "cell_type": "markdown",
   "metadata": {},
   "source": [
    "Although this is a very rough exporation, we still see that there are some meaningful features which agree with our common sense, for example, **Overall Quality, GrLivArea, Year Built**. Below, we visualize one of them."
   ]
  },
  {
   "cell_type": "code",
   "execution_count": 6,
   "metadata": {},
   "outputs": [
    {
     "data": {
      "text/plain": [
       "<matplotlib.axes._subplots.AxesSubplot at 0x10bc22780>"
      ]
     },
     "execution_count": 6,
     "metadata": {},
     "output_type": "execute_result"
    },
    {
     "data": {
      "image/png": "[encoded data removed]",
      "text/plain": [
       "<matplotlib.figure.Figure at 0x11564add8>"
      ]
     },
     "metadata": {},
     "output_type": "display_data"
    }
   ],
   "source": [
    "#scatter plot grlivarea/saleprice\n",
    "var = 'GrLivArea'\n",
    "train_data.plot(kind='scatter', x = var, y = 'SalePrice')"
   ]
  },
  {
   "cell_type": "markdown",
   "metadata": {},
   "source": [
    "## 3 Data preprocessing and feature engineering\n",
    "\n",
    "Data preprocessing and feature engineering are extremely important in data science projects. "
   ]
  },
  {
   "cell_type": "code",
   "execution_count": 32,
   "metadata": {
    "collapsed": true
   },
   "outputs": [],
   "source": [
    "# Separate Features and Target Variables\n",
    "\n",
    "X_train = train_data.loc[:, 'MSSubClass':'SaleCondition']\n",
    "y_train = train_data['SalePrice']"
   ]
  },
  {
   "cell_type": "markdown",
   "metadata": {},
   "source": [
    "### 3.1 Handle Categorical Features\n",
    "\n",
    "Usually, we need to convert categorical features to numerical values. Instead of naively convert them to a sequence of integers, a common used idea is **One-hot-encoding**. In **Pandas**, there is a method called **get_dummies** to do it."
   ]
  },
  {
   "cell_type": "code",
   "execution_count": 8,
   "metadata": {},
   "outputs": [
    {
     "data": {
      "text/plain": [
       "Index(['MSSubClass', 'LotFrontage', 'LotArea', 'OverallQual', 'OverallCond',\n",
       "       'YearBuilt', 'YearRemodAdd', 'MasVnrArea', 'BsmtFinSF1', 'BsmtFinSF2',\n",
       "       ...\n",
       "       'SaleType_ConLw', 'SaleType_New', 'SaleType_Oth', 'SaleType_WD',\n",
       "       'SaleCondition_Abnorml', 'SaleCondition_AdjLand',\n",
       "       'SaleCondition_Alloca', 'SaleCondition_Family', 'SaleCondition_Normal',\n",
       "       'SaleCondition_Partial'],\n",
       "      dtype='object', length=288)"
      ]
     },
     "execution_count": 8,
     "metadata": {},
     "output_type": "execute_result"
    }
   ],
   "source": [
    "X_train = pd.get_dummies(X_train)\n",
    "\n",
    "# Visualize\n",
    "X_train.columns"
   ]
  },
  {
   "cell_type": "markdown",
   "metadata": {},
   "source": [
    "### 3.2 Missing Data\n",
    "\n",
    "Missing data(usually indicated as **nan** in data matrix) is a common noise in real datasets, if we do not handle missing data, we need to drop the samples with **nan** values in training data, since we cannot do numerical computations for **nan** values. In test data, this is a disaster, because it means we cannot predict the value of corresponding target variable. \n",
    "\n",
    "In general, we can classfy the preprocessing strategies into two categories. \n",
    "\n",
    "**Naive Idea**: Drop the features with missing data. This is not a wise idea, but sometimes it works if you are confident that the corresponding feature is not important for prediction. \n",
    "\n",
    "**Popular Idea**: Imputation. We can replace the missing data with some statistics, like mean or median. "
   ]
  },
  {
   "cell_type": "code",
   "execution_count": 9,
   "metadata": {
    "collapsed": true
   },
   "outputs": [],
   "source": [
    "#filling NA's with the mean of the column:\n",
    "X_train = X_train.fillna(X_train.mean())"
   ]
  },
  {
   "cell_type": "markdown",
   "metadata": {},
   "source": [
    "NOTE:\n",
    "Depending on the distribution, average (if even distributed) or median (unevenly distribution eg income)\n",
    "common point - if categorical"
   ]
  },
  {
   "cell_type": "markdown",
   "metadata": {},
   "source": [
    "### 3.3 Handle Skewed Data\n",
    "\n",
    "One popular way to handle the skewed positive data is to take the logorithm. Just like the figure we show in data exploration part, this will make the data more normal."
   ]
  },
  {
   "cell_type": "code",
   "execution_count": 10,
   "metadata": {},
   "outputs": [
    {
     "data": {
      "image/png": "[encoded data removed]",
      "text/plain": [
       "<matplotlib.figure.Figure at 0x115a0ca20>"
      ]
     },
     "metadata": {},
     "output_type": "display_data"
    }
   ],
   "source": [
    "matplotlib.rcParams['figure.figsize'] = (12.0, 6.0)\n",
    "prices = pd.DataFrame({\"price\":train_data[\"SalePrice\"], \"log(price + 1)\":np.log1p(train_data[\"SalePrice\"])})\n",
    "prices.hist()\n",
    "y_train = np.log1p(y_train)"
   ]
  },
  {
   "cell_type": "code",
   "execution_count": 11,
   "metadata": {
    "collapsed": true
   },
   "outputs": [],
   "source": [
    "# Handle other skewed features.  \n",
    "numerical_feats = X_train.dtypes[X_train.dtypes != \"object\"].index\n",
    "\n",
    "# compute skewness of the numerical features\n",
    "skewed_feats = X_train[numerical_feats].apply(lambda x: skew(x.dropna()))\n",
    "skewed_feats = skewed_feats[skewed_feats > 0.75]\n",
    "skewed_feats = skewed_feats.index\n",
    "X_train[skewed_feats] = np.log1p(X_train[skewed_feats])"
   ]
  },
  {
   "cell_type": "markdown",
   "metadata": {},
   "source": [
    "### Splitting Training Datasets into Training set and Validation set. \n",
    "\n",
    "This is very important, experienced data scientists always do this. What we really care about is the accuracy of the model on unseen data. Usually, the test data is not available when we train the model. So, in order to evaluate the performance of your machine learning model on unseen data and preventing overfitting, we usually split the training set into two datasets randomly, using part of the training data as **validation data(10% - 20%)**. If the training data is limited, then we usually do **cross-validation**. There are **train_test_split** function in **Scikit Learn**."
   ]
  },
  {
   "cell_type": "code",
   "execution_count": 12,
   "metadata": {
    "collapsed": true
   },
   "outputs": [],
   "source": [
    "# But if you use scikit learn, cross-validation is built-in method\n",
    "from sklearn.model_selection import train_test_split\n",
    "\n",
    "X_train, X_val, y_train, y_val, train_id, val_id = train_test_split(X_train, y_train, index_array,test_size = 0.2, random_state = 42)"
   ]
  },
  {
   "cell_type": "code",
   "execution_count": 13,
   "metadata": {},
   "outputs": [
    {
     "data": {
      "text/html": [
       "<div>\n",
       "<style>\n",
       "    .dataframe thead tr:only-child th {\n",
       "        text-align: right;\n",
       "    }\n",
       "\n",
       "    .dataframe thead th {\n",
       "        text-align: left;\n",
       "    }\n",
       "\n",
       "    .dataframe tbody tr th {\n",
       "        vertical-align: top;\n",
       "    }\n",
       "</style>\n",
       "<table border=\"1\" class=\"dataframe\">\n",
       "  <thead>\n",
       "    <tr style=\"text-align: right;\">\n",
       "      <th></th>\n",
       "      <th>MSSubClass</th>\n",
       "      <th>LotFrontage</th>\n",
       "      <th>LotArea</th>\n",
       "      <th>OverallQual</th>\n",
       "      <th>OverallCond</th>\n",
       "      <th>YearBuilt</th>\n",
       "      <th>YearRemodAdd</th>\n",
       "      <th>MasVnrArea</th>\n",
       "      <th>BsmtFinSF1</th>\n",
       "      <th>BsmtFinSF2</th>\n",
       "      <th>...</th>\n",
       "      <th>SaleType_ConLw</th>\n",
       "      <th>SaleType_New</th>\n",
       "      <th>SaleType_Oth</th>\n",
       "      <th>SaleType_WD</th>\n",
       "      <th>SaleCondition_Abnorml</th>\n",
       "      <th>SaleCondition_AdjLand</th>\n",
       "      <th>SaleCondition_Alloca</th>\n",
       "      <th>SaleCondition_Family</th>\n",
       "      <th>SaleCondition_Normal</th>\n",
       "      <th>SaleCondition_Partial</th>\n",
       "    </tr>\n",
       "  </thead>\n",
       "  <tbody>\n",
       "    <tr>\n",
       "      <th>count</th>\n",
       "      <td>1168.000000</td>\n",
       "      <td>1168.000000</td>\n",
       "      <td>1168.000000</td>\n",
       "      <td>1168.000000</td>\n",
       "      <td>1168.000000</td>\n",
       "      <td>1168.000000</td>\n",
       "      <td>1168.000000</td>\n",
       "      <td>1168.000000</td>\n",
       "      <td>1168.000000</td>\n",
       "      <td>1168.000000</td>\n",
       "      <td>...</td>\n",
       "      <td>1168.000000</td>\n",
       "      <td>1168.000000</td>\n",
       "      <td>1168.000000</td>\n",
       "      <td>1168.000000</td>\n",
       "      <td>1168.000000</td>\n",
       "      <td>1168.000000</td>\n",
       "      <td>1168.000000</td>\n",
       "      <td>1168.000000</td>\n",
       "      <td>1168.000000</td>\n",
       "      <td>1168.000000</td>\n",
       "    </tr>\n",
       "    <tr>\n",
       "      <th>mean</th>\n",
       "      <td>3.816582</td>\n",
       "      <td>4.220267</td>\n",
       "      <td>9.122386</td>\n",
       "      <td>6.121575</td>\n",
       "      <td>5.584760</td>\n",
       "      <td>1970.965753</td>\n",
       "      <td>1984.897260</td>\n",
       "      <td>2.200885</td>\n",
       "      <td>4.238420</td>\n",
       "      <td>0.640925</td>\n",
       "      <td>...</td>\n",
       "      <td>0.002374</td>\n",
       "      <td>0.057564</td>\n",
       "      <td>0.001187</td>\n",
       "      <td>0.866438</td>\n",
       "      <td>0.045695</td>\n",
       "      <td>0.002374</td>\n",
       "      <td>0.004154</td>\n",
       "      <td>0.010682</td>\n",
       "      <td>0.825342</td>\n",
       "      <td>0.058158</td>\n",
       "    </tr>\n",
       "    <tr>\n",
       "      <th>std</th>\n",
       "      <td>0.689740</td>\n",
       "      <td>0.313899</td>\n",
       "      <td>0.516790</td>\n",
       "      <td>1.367619</td>\n",
       "      <td>1.116062</td>\n",
       "      <td>30.675495</td>\n",
       "      <td>20.733955</td>\n",
       "      <td>2.632173</td>\n",
       "      <td>2.993610</td>\n",
       "      <td>1.824924</td>\n",
       "      <td>...</td>\n",
       "      <td>0.040511</td>\n",
       "      <td>0.191359</td>\n",
       "      <td>0.028670</td>\n",
       "      <td>0.340326</td>\n",
       "      <td>0.172078</td>\n",
       "      <td>0.040511</td>\n",
       "      <td>0.053522</td>\n",
       "      <td>0.085419</td>\n",
       "      <td>0.379837</td>\n",
       "      <td>0.192253</td>\n",
       "    </tr>\n",
       "    <tr>\n",
       "      <th>min</th>\n",
       "      <td>3.044522</td>\n",
       "      <td>3.091042</td>\n",
       "      <td>7.170888</td>\n",
       "      <td>1.000000</td>\n",
       "      <td>1.000000</td>\n",
       "      <td>1872.000000</td>\n",
       "      <td>1950.000000</td>\n",
       "      <td>0.000000</td>\n",
       "      <td>0.000000</td>\n",
       "      <td>0.000000</td>\n",
       "      <td>...</td>\n",
       "      <td>0.000000</td>\n",
       "      <td>0.000000</td>\n",
       "      <td>0.000000</td>\n",
       "      <td>0.000000</td>\n",
       "      <td>0.000000</td>\n",
       "      <td>0.000000</td>\n",
       "      <td>0.000000</td>\n",
       "      <td>0.000000</td>\n",
       "      <td>0.000000</td>\n",
       "      <td>0.000000</td>\n",
       "    </tr>\n",
       "    <tr>\n",
       "      <th>25%</th>\n",
       "      <td>3.044522</td>\n",
       "      <td>4.110874</td>\n",
       "      <td>8.934356</td>\n",
       "      <td>5.000000</td>\n",
       "      <td>5.000000</td>\n",
       "      <td>1953.000000</td>\n",
       "      <td>1966.000000</td>\n",
       "      <td>0.000000</td>\n",
       "      <td>0.000000</td>\n",
       "      <td>0.000000</td>\n",
       "      <td>...</td>\n",
       "      <td>0.000000</td>\n",
       "      <td>0.000000</td>\n",
       "      <td>0.000000</td>\n",
       "      <td>1.000000</td>\n",
       "      <td>0.000000</td>\n",
       "      <td>0.000000</td>\n",
       "      <td>0.000000</td>\n",
       "      <td>0.000000</td>\n",
       "      <td>1.000000</td>\n",
       "      <td>0.000000</td>\n",
       "    </tr>\n",
       "    <tr>\n",
       "      <th>50%</th>\n",
       "      <td>3.931826</td>\n",
       "      <td>4.263383</td>\n",
       "      <td>9.169623</td>\n",
       "      <td>6.000000</td>\n",
       "      <td>5.000000</td>\n",
       "      <td>1972.000000</td>\n",
       "      <td>1994.000000</td>\n",
       "      <td>0.000000</td>\n",
       "      <td>5.954540</td>\n",
       "      <td>0.000000</td>\n",
       "      <td>...</td>\n",
       "      <td>0.000000</td>\n",
       "      <td>0.000000</td>\n",
       "      <td>0.000000</td>\n",
       "      <td>1.000000</td>\n",
       "      <td>0.000000</td>\n",
       "      <td>0.000000</td>\n",
       "      <td>0.000000</td>\n",
       "      <td>0.000000</td>\n",
       "      <td>1.000000</td>\n",
       "      <td>0.000000</td>\n",
       "    </tr>\n",
       "    <tr>\n",
       "      <th>75%</th>\n",
       "      <td>4.262680</td>\n",
       "      <td>4.382027</td>\n",
       "      <td>9.367430</td>\n",
       "      <td>7.000000</td>\n",
       "      <td>6.000000</td>\n",
       "      <td>2001.000000</td>\n",
       "      <td>2004.000000</td>\n",
       "      <td>5.117994</td>\n",
       "      <td>6.582022</td>\n",
       "      <td>0.000000</td>\n",
       "      <td>...</td>\n",
       "      <td>0.000000</td>\n",
       "      <td>0.000000</td>\n",
       "      <td>0.000000</td>\n",
       "      <td>1.000000</td>\n",
       "      <td>0.000000</td>\n",
       "      <td>0.000000</td>\n",
       "      <td>0.000000</td>\n",
       "      <td>0.000000</td>\n",
       "      <td>1.000000</td>\n",
       "      <td>0.000000</td>\n",
       "    </tr>\n",
       "    <tr>\n",
       "      <th>max</th>\n",
       "      <td>5.252273</td>\n",
       "      <td>5.749393</td>\n",
       "      <td>12.279537</td>\n",
       "      <td>10.000000</td>\n",
       "      <td>9.000000</td>\n",
       "      <td>2010.000000</td>\n",
       "      <td>2010.000000</td>\n",
       "      <td>7.229114</td>\n",
       "      <td>8.638525</td>\n",
       "      <td>7.028201</td>\n",
       "      <td>...</td>\n",
       "      <td>0.693147</td>\n",
       "      <td>0.693147</td>\n",
       "      <td>0.693147</td>\n",
       "      <td>1.000000</td>\n",
       "      <td>0.693147</td>\n",
       "      <td>0.693147</td>\n",
       "      <td>0.693147</td>\n",
       "      <td>0.693147</td>\n",
       "      <td>1.000000</td>\n",
       "      <td>0.693147</td>\n",
       "    </tr>\n",
       "  </tbody>\n",
       "</table>\n",
       "<p>8 rows × 288 columns</p>\n",
       "</div>"
      ],
      "text/plain": [
       "        MSSubClass  LotFrontage      LotArea  OverallQual  OverallCond  \\\n",
       "count  1168.000000  1168.000000  1168.000000  1168.000000  1168.000000   \n",
       "mean      3.816582     4.220267     9.122386     6.121575     5.584760   \n",
       "std       0.689740     0.313899     0.516790     1.367619     1.116062   \n",
       "min       3.044522     3.091042     7.170888     1.000000     1.000000   \n",
       "25%       3.044522     4.110874     8.934356     5.000000     5.000000   \n",
       "50%       3.931826     4.263383     9.169623     6.000000     5.000000   \n",
       "75%       4.262680     4.382027     9.367430     7.000000     6.000000   \n",
       "max       5.252273     5.749393    12.279537    10.000000     9.000000   \n",
       "\n",
       "         YearBuilt  YearRemodAdd   MasVnrArea   BsmtFinSF1   BsmtFinSF2  \\\n",
       "count  1168.000000   1168.000000  1168.000000  1168.000000  1168.000000   \n",
       "mean   1970.965753   1984.897260     2.200885     4.238420     0.640925   \n",
       "std      30.675495     20.733955     2.632173     2.993610     1.824924   \n",
       "min    1872.000000   1950.000000     0.000000     0.000000     0.000000   \n",
       "25%    1953.000000   1966.000000     0.000000     0.000000     0.000000   \n",
       "50%    1972.000000   1994.000000     0.000000     5.954540     0.000000   \n",
       "75%    2001.000000   2004.000000     5.117994     6.582022     0.000000   \n",
       "max    2010.000000   2010.000000     7.229114     8.638525     7.028201   \n",
       "\n",
       "               ...            SaleType_ConLw  SaleType_New  SaleType_Oth  \\\n",
       "count          ...               1168.000000   1168.000000   1168.000000   \n",
       "mean           ...                  0.002374      0.057564      0.001187   \n",
       "std            ...                  0.040511      0.191359      0.028670   \n",
       "min            ...                  0.000000      0.000000      0.000000   \n",
       "25%            ...                  0.000000      0.000000      0.000000   \n",
       "50%            ...                  0.000000      0.000000      0.000000   \n",
       "75%            ...                  0.000000      0.000000      0.000000   \n",
       "max            ...                  0.693147      0.693147      0.693147   \n",
       "\n",
       "       SaleType_WD  SaleCondition_Abnorml  SaleCondition_AdjLand  \\\n",
       "count  1168.000000            1168.000000            1168.000000   \n",
       "mean      0.866438               0.045695               0.002374   \n",
       "std       0.340326               0.172078               0.040511   \n",
       "min       0.000000               0.000000               0.000000   \n",
       "25%       1.000000               0.000000               0.000000   \n",
       "50%       1.000000               0.000000               0.000000   \n",
       "75%       1.000000               0.000000               0.000000   \n",
       "max       1.000000               0.693147               0.693147   \n",
       "\n",
       "       SaleCondition_Alloca  SaleCondition_Family  SaleCondition_Normal  \\\n",
       "count           1168.000000           1168.000000           1168.000000   \n",
       "mean               0.004154              0.010682              0.825342   \n",
       "std                0.053522              0.085419              0.379837   \n",
       "min                0.000000              0.000000              0.000000   \n",
       "25%                0.000000              0.000000              1.000000   \n",
       "50%                0.000000              0.000000              1.000000   \n",
       "75%                0.000000              0.000000              1.000000   \n",
       "max                0.693147              0.693147              1.000000   \n",
       "\n",
       "       SaleCondition_Partial  \n",
       "count            1168.000000  \n",
       "mean                0.058158  \n",
       "std                 0.192253  \n",
       "min                 0.000000  \n",
       "25%                 0.000000  \n",
       "50%                 0.000000  \n",
       "75%                 0.000000  \n",
       "max                 0.693147  \n",
       "\n",
       "[8 rows x 288 columns]"
      ]
     },
     "execution_count": 13,
     "metadata": {},
     "output_type": "execute_result"
    }
   ],
   "source": [
    "X_train.describe()"
   ]
  },
  {
   "cell_type": "markdown",
   "metadata": {},
   "source": [
    "## Explore some reasonable models\n",
    "\n",
    "Usually, after you prepared your data, you will begin to try some reasonable machine learning model to solve your problem. In this problem, we will try **Linear Regression**, **Linear Regression with Regularization(Ridge Regression, Lasso)**, **Decision Tree**, **XGBoost** models. \n",
    "\n",
    "The most fundamental model called **Linear Regression**, which has the fllowing form:\n",
    "$$\\frac{1}{2}\\sum_{i=1}^n[(y_i - \\sum_{j=1}^d X_{ij}w_j)^2]$$\n",
    "Or, we can write it in the following compact matrix form\n",
    "$$\\min_{w} \\frac{1}{2}\\|y_{train} - X_{train}w\\|_2^2$$"
   ]
  },
  {
   "cell_type": "code",
   "execution_count": 14,
   "metadata": {},
   "outputs": [
    {
     "data": {
      "text/plain": [
       "LinearRegression(copy_X=True, fit_intercept=True, n_jobs=1, normalize=False)"
      ]
     },
     "execution_count": 14,
     "metadata": {},
     "output_type": "execute_result"
    }
   ],
   "source": [
    "from sklearn.linear_model import LinearRegression\n",
    "from sklearn.metrics import mean_squared_error\n",
    "model_linear_reg = LinearRegression()\n",
    "\n",
    "# Train your Linear Regression Model on Training Set\n",
    "model_linear_reg.fit(X_train, y_train)"
   ]
  },
  {
   "cell_type": "code",
   "execution_count": 15,
   "metadata": {},
   "outputs": [
    {
     "name": "stdout",
     "output_type": "stream",
     "text": [
      "Predictions: \t [ 11.8088153   12.74187629  11.80545487  12.9989007   11.78511312]\n",
      "True Labels: \t [ 11.75979336  12.65973727  11.78296024  13.0086615   11.75587949]\n",
      "The Mean-Square-Error of the linear regression model is: 0.00777671434975\n"
     ]
    }
   ],
   "source": [
    "# Yeah, you get your first Machine Learning Model\n",
    "# Print out some values \n",
    "\n",
    "data_sample = X_train.iloc[100:105]\n",
    "y_sample = y_train.iloc[100:105]\n",
    "print(\"Predictions: \\t\", model_linear_reg.predict(data_sample))\n",
    "print(\"True Labels: \\t\", np.array(y_sample))\n",
    "\n",
    "# compute the mean-square error on training set\n",
    "y_pred_linear_reg = model_linear_reg.predict(X_train)\n",
    "mse_model_linear_reg = mean_squared_error(y_train, y_pred_linear_reg)\n",
    "print(\"The Mean-Square-Error of the linear regression model is:\", mse_model_linear_reg)\n",
    "# It seems not that bad!!!"
   ]
  },
  {
   "cell_type": "code",
   "execution_count": 16,
   "metadata": {},
   "outputs": [
    {
     "name": "stdout",
     "output_type": "stream",
     "text": [
      "The value of w is: [ -1.11756400e-02  -2.22278824e-03   9.00901902e-02   3.56162959e-02\n",
      "   3.81921924e-02   2.05388067e-03   1.11863375e-03   9.10755511e-04\n",
      "   1.54316027e-02   3.24680038e-03  -2.71990525e-03   1.00111111e-01\n",
      "  -3.87591836e-02  -8.90231985e-04  -2.85191740e-03   4.42585309e-01\n",
      "   2.59816883e-02   1.29684647e-02   1.45306761e-02   1.79515053e-02\n",
      "   5.93472692e-03  -1.25370155e-01   6.86607606e-04   1.86141879e-02\n",
      "  -1.72806858e-04   1.40905301e-02   1.31481516e-04   3.36121524e-03\n",
      "   1.81616443e-03   1.87494411e-03   7.06756901e-03   7.80553896e-03\n",
      "   4.58483303e+00  -5.35880886e-03  -1.00233819e-03  -3.54629688e-03\n",
      "  -3.52906086e-01   1.40197398e-01   1.14503994e-01   5.39590170e-02\n",
      "   6.08031537e-02  -1.59535248e-02   2.30160711e-02   2.10539850e-02\n",
      "   5.29597635e-02  -2.29326042e-02  -6.64936321e-03   3.13446541e-02\n",
      "  -1.26951695e-02  -1.33996981e-02   3.65335958e-02  -2.94875303e-02\n",
      "   9.16635429e-03   1.23463525e-01  -8.55783939e-02   6.30709172e-02\n",
      "   8.71814696e-02  -9.47748165e-03  -1.62028997e-01   3.06631725e-02\n",
      "   1.73476723e-02   3.08778225e-02  -4.29023126e-02   8.04723783e-02\n",
      "   1.74990973e-03  -1.51176365e-02   2.45407625e-02   3.16232977e-03\n",
      "  -2.81241653e-02   1.34374931e-01  -1.18635683e-01  -3.72464971e-02\n",
      "  -9.88393204e-02  -1.60080424e-01  -8.94163192e-02  -5.87281346e-02\n",
      "   1.13918535e-01  -8.65151337e-02   9.46697805e-02   9.56223127e-02\n",
      "  -7.54849034e-02   3.07925836e-02  -4.29553414e-02  -4.11111621e-02\n",
      "   9.57865066e-03   2.26462993e-01  -9.34935052e-03   4.62589037e-02\n",
      "  -6.97046298e-02   3.05173463e-03   3.45227418e-02  -1.16812340e-02\n",
      "   8.29568300e-02  -1.41997883e-01   3.20606421e-03   4.43718763e-02\n",
      "   6.58679008e-02   4.84796803e-03   3.86288393e-01   1.04707028e-01\n",
      "   4.37165126e-01  -8.72297315e-01  -2.59638814e-01   4.50235627e-02\n",
      "   1.86033698e-01   2.42334611e-02   5.11561818e-02  -6.67667829e-02\n",
      "  -9.88462961e-03   8.69787541e-03  -1.63258256e-02   1.10394895e-01\n",
      "  -3.39581653e-03  -7.24703693e-02  -4.09615195e-03  -4.97411272e-02\n",
      "   2.66319585e-02   7.96042126e-03   6.60685719e-02  -5.96706268e-02\n",
      "  -7.10706857e-02  -9.08353506e-02   4.46139298e-03   1.32736598e-01\n",
      "   1.00006915e-01  -1.88348950e-02  -9.45910017e-13  -5.71167735e-02\n",
      "   4.43672830e-02  -1.08118667e-01   1.43142195e-02   1.96023765e-02\n",
      "   7.88322106e-02   4.49881014e-02  -2.44173074e-01   1.37103265e-01\n",
      "  -1.34150854e-02  -5.24770820e-02   3.11210321e-03   4.08326665e-02\n",
      "   6.51816889e-02   3.65543733e-03   2.84222812e-03   1.62269155e-02\n",
      "   7.97780083e-03  -4.90674233e-02  -3.91717422e-02  -6.51381643e-02\n",
      "   7.06373899e-03  -2.80462431e-02   1.41516601e-02  -1.34150854e-02\n",
      "   1.06820184e-01   9.97871652e-03  -6.62247235e-03  -2.44388742e-02\n",
      "  -1.88246023e-01  -9.11226997e-03  -1.25102224e-02   8.52744594e-02\n",
      "   6.98119750e-03   7.22988994e-02   4.71026994e-02   1.86690982e-02\n",
      "   5.55225308e-02   3.73110522e-02   7.43040311e-02   1.95996547e-02\n",
      "   6.83555586e-04  -1.69511566e-02  -1.23113303e-02   9.99530399e-02\n",
      "  -4.83720227e-02  -3.27599284e-02  -1.61257959e-02  -3.88848586e-03\n",
      "   5.93588584e-03   2.32807509e-02   4.15009857e-02  -4.34307409e-02\n",
      "   1.55622936e-01  -1.63031359e-01  -2.09142371e-01  -2.38458999e-01\n",
      "  -1.99399887e-01  -2.02748772e-01  -2.80938413e-01  -2.10145650e-01\n",
      "  -1.44874763e-01  -1.30406291e-01  -2.19396124e-01  -1.63093555e-01\n",
      "  -2.28964672e-01  -1.65758775e-01  -1.22380954e-01  -1.44205469e-01\n",
      "  -1.08156564e-01  -1.54449673e-01  -1.41558952e-01  -5.55979674e-02\n",
      "  -1.07773134e-01  -1.95729985e-01  -8.75030941e-02  -1.44391119e-01\n",
      "  -1.39356416e-01  -7.44370502e-02  -7.13573895e-02   2.98554926e-02\n",
      "   1.08747531e-01  -2.64239704e-01   4.99051961e-02   1.56250116e-01\n",
      "   1.00117745e-02   1.91950531e-02  -1.70292981e-02   8.58417333e-03\n",
      "  -1.76895616e-02  -2.45441495e-02   3.54097228e-02  -1.06874057e-01\n",
      "  -1.13300435e-01  -3.02294089e-01  -1.11022302e-16  -8.83177752e-02\n",
      "   4.27979041e-02   1.91612297e-03  -3.40618152e-02  -3.04468899e-02\n",
      "   1.35426829e-01  -1.91585156e-01   1.34779061e-01   1.20642285e-01\n",
      "   6.27751290e-02  -3.72011457e-01   1.58657949e-01  -4.24121177e-04\n",
      "  -3.65626488e-02   1.98844978e-03   1.24286342e-02   1.33585800e-02\n",
      "  -1.33186391e-01   1.89441458e-02   2.91872490e-02   1.70006182e-02\n",
      "   9.39083930e-02   2.29746733e-02   1.64838626e-02   1.72673174e-02\n",
      "   1.33657673e-02   5.40182105e-01  -1.53927919e-01  -8.73810986e-02\n",
      "  -2.04988451e-01  -7.33884720e-02  -3.92002809e-01   5.73088346e-02\n",
      "   1.03321817e-01   2.30963356e-01   6.26482026e-02   1.51483295e-02\n",
      "  -2.15000540e-02   9.16360148e-03  -4.12318673e+01  -4.27455755e+01\n",
      "  -4.34482597e+01  -1.60996131e-02  -4.78198222e-02   1.25417154e-02\n",
      "  -2.11046017e-02   1.50370459e-01  -1.13802453e-01   3.69342988e-02\n",
      "   1.41443547e+00  -7.33385135e-02   2.32976432e-02   2.61264908e-02\n",
      "   6.53458948e-02  -7.98846398e-02  -8.84036027e-02  -1.33121021e-02\n",
      "   1.82439138e-01  -6.09831652e-02  -1.09600613e-01   6.07149632e-02\n",
      "   1.71205485e-01  -7.79712294e-02  -1.26200896e-02  -3.56010270e-02]\n"
     ]
    }
   ],
   "source": [
    "# Explore the learned parameters we get\n",
    "\n",
    "print(\"The value of w is:\", model_linear_reg.coef_)"
   ]
  },
  {
   "cell_type": "markdown",
   "metadata": {},
   "source": [
    "### Regularization\n",
    "\n",
    "We can see that, the values of all parameters are nonzeros. However, we know there are some features in the dataset that are not benifit for us to predict the price of the house. In other words, we want to do the feature selections to get the useful features automatically. One popular way to achieve this goal is to add a regularization term $\\|\\cdot\\|_1$ which can enforce the parameters to be sparse. \n",
    "\n",
    "Later, you will learn the regularization term from the aspect of preventing over-fitting. \n",
    "\n",
    "So, in order to do feature selection, we will consider the following regularized linear model, called **Lasso**:\n",
    "$$\\min_{w} \\frac{1}{2}\\|y_{train} - X_{train}w\\|_2^2 + \\alpha \\|w\\|_1$$\n",
    "where $\\alpha >0$ is the hyperparameter to control the strength of the regularization term. "
   ]
  },
  {
   "cell_type": "code",
   "execution_count": 17,
   "metadata": {},
   "outputs": [
    {
     "data": {
      "text/plain": [
       "Lasso(alpha=0.01, copy_X=True, fit_intercept=True, max_iter=4000,\n",
       "   normalize=False, positive=False, precompute=False, random_state=None,\n",
       "   selection='cyclic', tol=0.0001, warm_start=False)"
      ]
     },
     "execution_count": 17,
     "metadata": {},
     "output_type": "execute_result"
    }
   ],
   "source": [
    "from sklearn.linear_model import Lasso\n",
    "model_lasso = Lasso(alpha = 0.01, max_iter= 4000)\n",
    "\n",
    "# choose the value of your hyperparameter alpha\n",
    "# Train your model\n",
    "model_lasso.fit(X_train, y_train)\n"
   ]
  },
  {
   "cell_type": "code",
   "execution_count": 18,
   "metadata": {},
   "outputs": [
    {
     "name": "stdout",
     "output_type": "stream",
     "text": [
      "Predictions: \t [ 11.88719094  12.72859593  11.96568146  12.8987263   11.86942006]\n",
      "True Labels: \t [ 11.75979336  12.65973727  11.78296024  13.0086615   11.75587949]\n",
      "The Mean-Square-Error of the Lasso model is: 0.0230142499267\n"
     ]
    }
   ],
   "source": [
    "# Print out some results to see the performance\n",
    "data_sample = X_train.iloc[100:105]\n",
    "y_sample = y_train.iloc[100:105]\n",
    "print(\"Predictions: \\t\", model_lasso.predict(data_sample))\n",
    "print(\"True Labels: \\t\", np.array(y_sample))\n",
    "\n",
    "y_pred_lasso = model_lasso.predict(X_train)\n",
    "mse_model_lasso = mean_squared_error(y_train, y_pred_lasso)\n",
    "print(\"The Mean-Square-Error of the Lasso model is:\", mse_model_lasso)"
   ]
  },
  {
   "cell_type": "markdown",
   "metadata": {},
   "source": [
    "If you look at the results and compare them to the predictions we get from linear regression, you can see that the performance is worse. This is contradict to your common sense since we should get better results if we exclude some irrelavent features. \n",
    "\n",
    "**Analysis**: The problem maybe we select a inappropriate hyperparameter. "
   ]
  },
  {
   "cell_type": "code",
   "execution_count": 19,
   "metadata": {},
   "outputs": [
    {
     "name": "stdout",
     "output_type": "stream",
     "text": [
      "Predictions: \t [ 11.74331671  12.72384969  11.79943948  12.97974833  11.77558877]\n",
      "True Labels: \t [ 11.75979336  12.65973727  11.78296024  13.0086615   11.75587949]\n",
      "The Mean-Square-Error of the new lasso model is: 0.00930105224739\n"
     ]
    }
   ],
   "source": [
    "model_lasso_2 = Lasso(alpha= 0.0002, max_iter= 4000)\n",
    "model_lasso_2.fit(X_train, y_train)\n",
    "\n",
    "# print out something\n",
    "data_sample = X_train.iloc[100:105]\n",
    "y_sample = y_train.iloc[100:105]\n",
    "print(\"Predictions: \\t\", model_lasso_2.predict(data_sample))\n",
    "print(\"True Labels: \\t\", np.array(y_sample))\n",
    "\n",
    "y_pred_lasso_2 = model_lasso_2.predict(X_train)\n",
    "mse_model_lasso_2 = mean_squared_error(y_train, y_pred_lasso_2)\n",
    "print(\"The Mean-Square-Error of the new lasso model is:\", mse_model_lasso_2)"
   ]
  },
  {
   "cell_type": "markdown",
   "metadata": {
    "collapsed": true
   },
   "source": [
    "### A better way to evaluate the performance of your machine learning model\n",
    "\n",
    "In real project, what we really care about is the testing error. However, we cannot evaluate our machine learning model on the test dataset before we launch our model. One possible way to estimate the performance of our model on unseen data is cross-validation. "
   ]
  },
  {
   "cell_type": "code",
   "execution_count": 20,
   "metadata": {
    "collapsed": true
   },
   "outputs": [],
   "source": [
    "from sklearn.model_selection import cross_val_score\n",
    "def rmse_cv(model):\n",
    "    rmse= np.sqrt(-cross_val_score(model, X_train, y_train, scoring=\"neg_mean_squared_error\", cv = 5))\n",
    "    return(rmse)"
   ]
  },
  {
   "cell_type": "code",
   "execution_count": 21,
   "metadata": {},
   "outputs": [
    {
     "name": "stdout",
     "output_type": "stream",
     "text": [
      "Cross Validation Error for Lasso: 0.0100    0.154992\n",
      "0.0002    0.131829\n",
      "dtype: float64\n",
      "Cross Validation Error for Linear Regression: 0.14139762169\n"
     ]
    }
   ],
   "source": [
    "alphas = [0.01, 0.0002]\n",
    "cv_lasso = [rmse_cv(Lasso(alpha = alpha, max_iter= 4000)).mean() \n",
    "            for alpha in alphas]\n",
    "cv_lasso = pd.Series(cv_lasso, index = alphas)\n",
    "print(\"Cross Validation Error for Lasso:\", cv_lasso)\n",
    "#cv_lasso.plot(title = \"Validation Error\")\n",
    "#plt.xlabel(\"alpha\")\n",
    "#plt.ylabel(\"rmse\")\n",
    "\n",
    "cv_linear_reg = rmse_cv(model_linear_reg).mean()\n",
    "print(\"Cross Validation Error for Linear Regression:\", cv_linear_reg)"
   ]
  },
  {
   "cell_type": "code",
   "execution_count": 22,
   "metadata": {},
   "outputs": [
    {
     "name": "stdout",
     "output_type": "stream",
     "text": [
      "The smallest validation error is: 0.131828872768\n"
     ]
    }
   ],
   "source": [
    "print(\"The smallest validation error is:\",(cv_lasso.min()))"
   ]
  },
  {
   "cell_type": "markdown",
   "metadata": {},
   "source": [
    "Now, we try to explore more linear models. \n",
    "In high-dimensional problem, we usually want to get a sparse solution, One popular model to get the sparse solution is Lasso. "
   ]
  },
  {
   "cell_type": "code",
   "execution_count": 23,
   "metadata": {},
   "outputs": [
    {
     "data": {
      "text/plain": [
       "Lasso(alpha=0.0002, copy_X=True, fit_intercept=True, max_iter=4000,\n",
       "   normalize=False, positive=False, precompute=False, random_state=None,\n",
       "   selection='cyclic', tol=0.0001, warm_start=False)"
      ]
     },
     "execution_count": 23,
     "metadata": {},
     "output_type": "execute_result"
    }
   ],
   "source": [
    "model_lasso_better = Lasso(alpha= 0.0002, max_iter= 4000)\n",
    "model_lasso_better.fit(X_train, y_train)"
   ]
  },
  {
   "cell_type": "markdown",
   "metadata": {},
   "source": [
    "Now, we check whether Lasso has the ability to do feature selection or not. "
   ]
  },
  {
   "cell_type": "code",
   "execution_count": 24,
   "metadata": {},
   "outputs": [
    {
     "name": "stdout",
     "output_type": "stream",
     "text": [
      "Lasso picked 142 variables and eliminated the other 146 variables\n"
     ]
    }
   ],
   "source": [
    "coef = pd.Series(model_lasso_better.coef_, index = X_train.columns)\n",
    "print(\"Lasso picked \" + str(sum(coef != 0)) + \" variables and eliminated the other \" +  str(sum(coef == 0)) + \" variables\")"
   ]
  },
  {
   "cell_type": "markdown",
   "metadata": {},
   "source": [
    "Now, we try to check whether the Lasso model selected the meaningful features or not. To do this, we visualize the important features selected by Lasso model. "
   ]
  },
  {
   "cell_type": "code",
   "execution_count": 25,
   "metadata": {},
   "outputs": [
    {
     "data": {
      "text/plain": [
       "Text(0.5,1,'Important Coefficients in the Lasso Model')"
      ]
     },
     "execution_count": 25,
     "metadata": {},
     "output_type": "execute_result"
    },
    {
     "data": {
      "image/png": "[encoded data removed]",
      "text/plain": [
       "<matplotlib.figure.Figure at 0x1a1cc7b748>"
      ]
     },
     "metadata": {},
     "output_type": "display_data"
    }
   ],
   "source": [
    "imp_coef = pd.concat([coef.sort_values().head(10),\n",
    "                     coef.sort_values().tail(10)])\n",
    "\n",
    "# Visualize them.\n",
    "matplotlib.rcParams['figure.figsize'] = (8.0, 10.0)\n",
    "imp_coef.plot(kind = \"barh\")\n",
    "plt.title(\"Important Coefficients in the Lasso Model\")"
   ]
  },
  {
   "cell_type": "markdown",
   "metadata": {},
   "source": [
    "## Fine Tune Your Machine Learning Model\n",
    "\n",
    "Now, we have some models in hand. However, we want to fine tune our machine learning model to get better results. Usually, we will fine tune our model in two ways:\n",
    "\n",
    "- **Hyperparameter Tuning**: From the example showed in Lasso model, when the hyperparameters are not selected appropriately, we may get poor results. \n",
    "\n",
    "- **Model Ensemble**: In the idea of ensemble, you will combine some short-listed models together via weighted average to get better results. This is commonly used in real problems. One intuitive reason why ensemble could get a better result is, ensemble can reduce the variance of the single models. "
   ]
  },
  {
   "cell_type": "markdown",
   "metadata": {},
   "source": [
    "### Grid Search\n",
    "\n",
    "How to do **Hyperparameter Tuning** is very problem dependent. Some useful ideas are:\n",
    "\n",
    "1. Try some descrete values to determine the rough range of the hyperparameters. \n",
    "2. Use Grid Search or Random Search to fine tune your hyperparameters in the range. \n",
    "\n",
    "To do Grid search, you can get Scikit-Learn’s GridSearchCV to search for you. All you need to do is tell it which\n",
    "hyperparameters you want it to experiment with, and what values to try out, and it will evaluate all the\n",
    "possible combinations of hyperparameter values, using cross-validation."
   ]
  },
  {
   "cell_type": "code",
   "execution_count": 26,
   "metadata": {},
   "outputs": [
    {
     "data": {
      "text/plain": [
       "GridSearchCV(cv=5, error_score='raise',\n",
       "       estimator=Lasso(alpha=1.0, copy_X=True, fit_intercept=True, max_iter=4000,\n",
       "   normalize=False, positive=False, precompute=False, random_state=None,\n",
       "   selection='cyclic', tol=0.0001, warm_start=False),\n",
       "       fit_params=None, iid=True, n_jobs=1,\n",
       "       param_grid=[{'alpha': array([ 0.0001,  0.0003,  0.0005,  0.0007,  0.0009,  0.0011,  0.0013,\n",
       "        0.0015,  0.0017,  0.0019,  0.0021,  0.0023,  0.0025,  0.0027,\n",
       "        0.0029,  0.0031,  0.0033,  0.0035,  0.0037,  0.0039,  0.0041,\n",
       "        0.0043,  0.0045,  0.0047,  0.0049,  0.0051,  0.0053,  0.0055...1,  0.0083,\n",
       "        0.0085,  0.0087,  0.0089,  0.0091,  0.0093,  0.0095,  0.0097,\n",
       "        0.0099])}],\n",
       "       pre_dispatch='2*n_jobs', refit=True, return_train_score='warn',\n",
       "       scoring='neg_mean_squared_error', verbose=0)"
      ]
     },
     "execution_count": 26,
     "metadata": {},
     "output_type": "execute_result"
    }
   ],
   "source": [
    "from sklearn.model_selection import GridSearchCV\n",
    "\n",
    "param_grid = [\n",
    "    {'alpha':np.arange(0.0001,0.01,0.0002)}\n",
    "]\n",
    "\n",
    "model_lasso_cv = Lasso(max_iter=4000)\n",
    "\n",
    "grid_search = GridSearchCV(model_lasso_cv, param_grid, cv = 5, scoring = 'neg_mean_squared_error')\n",
    "grid_search.fit(X_train, y_train)"
   ]
  },
  {
   "cell_type": "code",
   "execution_count": 27,
   "metadata": {},
   "outputs": [
    {
     "data": {
      "text/plain": [
       "{'alpha': 0.00050000000000000012}"
      ]
     },
     "execution_count": 27,
     "metadata": {},
     "output_type": "execute_result"
    }
   ],
   "source": [
    "## Find the best parameters\n",
    "grid_search.best_params_"
   ]
  },
  {
   "cell_type": "code",
   "execution_count": 28,
   "metadata": {},
   "outputs": [
    {
     "name": "stdout",
     "output_type": "stream",
     "text": [
      "Cross_Validation rmse is: 0.129817883601\n"
     ]
    }
   ],
   "source": [
    "### Use the best One \n",
    "model_lasso_best = grid_search.best_estimator_\n",
    "print(\"Cross_Validation rmse is:\", rmse_cv(model_lasso_best).mean())"
   ]
  },
  {
   "cell_type": "markdown",
   "metadata": {},
   "source": [
    "## Evaluate the Results on Test Data Set"
   ]
  },
  {
   "cell_type": "code",
   "execution_count": 29,
   "metadata": {},
   "outputs": [
    {
     "name": "stdout",
     "output_type": "stream",
     "text": [
      "The Mean-Square-Error of the linear regression model is: 0.0196820645521\n",
      "The Mean-Square-Error of the  lasso model is: 0.0167906729961\n"
     ]
    }
   ],
   "source": [
    "y_pred_linear_reg = model_linear_reg.predict(X_val)\n",
    "y_pred_lasso = model_lasso_best.predict(X_val)\n",
    "\n",
    "print(\"The Mean-Square-Error of the linear regression model is:\", mean_squared_error(y_val, y_pred_linear_reg))\n",
    "print(\"The Mean-Square-Error of the  lasso model is:\", mean_squared_error(y_val, y_pred_lasso))"
   ]
  },
  {
   "cell_type": "code",
   "execution_count": 30,
   "metadata": {
    "collapsed": true
   },
   "outputs": [],
   "source": [
    "solution = pd.DataFrame({\"id\":val_id, \"SalePrice\":y_pred_lasso})\n",
    "solution.to_csv(\"lasso_sol.csv\", index = False)"
   ]
  }
 ],
 "metadata": {
  "kernelspec": {
   "display_name": "Python 3",
   "language": "python",
   "name": "python3"
  },
  "language_info": {
   "codemirror_mode": {
    "name": "ipython",
    "version": 3
   },
   "file_extension": ".py",
   "mimetype": "text/x-python",
   "name": "python",
   "nbconvert_exporter": "python",
   "pygments_lexer": "ipython3",
   "version": "3.6.3"
  }
 },
 "nbformat": 4,
 "nbformat_minor": 2
}
