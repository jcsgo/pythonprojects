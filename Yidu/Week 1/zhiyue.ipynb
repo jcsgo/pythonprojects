{
 "cells": [
  {
   "cell_type": "markdown",
   "metadata": {},
   "source": [
    "# Predict Housing Price in Singapore"
   ]
  },
  {
   "cell_type": "markdown",
   "metadata": {},
   "source": [
    "## 1. Data exploration"
   ]
  },
  {
   "cell_type": "code",
   "execution_count": 1,
   "metadata": {},
   "outputs": [],
   "source": [
    "import numpy as np\n",
    "import os\n",
    "import pandas as pd\n",
    "import seaborn as sns\n",
    "\n",
    "%matplotlib inline\n",
    "import matplotlib\n",
    "import matplotlib.pyplot as plt"
   ]
  },
  {
   "cell_type": "code",
   "execution_count": 2,
   "metadata": {},
   "outputs": [],
   "source": [
    "root_dir = \".\"\n",
    "train_data_dir = root_dir + \"/datasets/train.csv\"\n",
    "train_data = pd.read_csv(train_data_dir)\n",
    "test_data_dir = root_dir + \"/datasets/test.csv\"\n",
    "test_data = pd.read_csv(test_data_dir)\n",
    "header_data_dir = root_dir + \"/datasets/hdb_data_dict.csv\"\n",
    "header = pd.read_csv(header_data_dir)\n",
    "\n",
    "train_data['block'] = train_data[\"block\"].str.extract('(\\d+)',expand=False).astype(int)\n",
    "test_data['block'] = test_data[\"block\"].str.extract('(\\d+)',expand=False).astype(int)"
   ]
  },
  {
   "cell_type": "code",
   "execution_count": 4,
   "metadata": {},
   "outputs": [
    {
     "data": {
      "image/png": "[encoded data removed]",
      "text/plain": [
       "<matplotlib.figure.Figure at 0x11b9d14a8>"
      ]
     },
     "metadata": {},
     "output_type": "display_data"
    }
   ],
   "source": [
    "flat_type_pivot = train_data.pivot_table(index='flat_type',values='resale_price')\n",
    "flat_type_pivot.plot.bar()\n",
    "plt.show()"
   ]
  },
  {
   "cell_type": "code",
   "execution_count": 5,
   "metadata": {},
   "outputs": [
    {
     "data": {
      "text/plain": [
       "<matplotlib.axes._subplots.AxesSubplot at 0x11141e9e8>"
      ]
     },
     "execution_count": 5,
     "metadata": {},
     "output_type": "execute_result"
    },
    {
     "data": {
      "image/png": "[encoded data removed]",
      "text/plain": [
       "<matplotlib.figure.Figure at 0x1183a3358>"
      ]
     },
     "metadata": {},
     "output_type": "display_data"
    }
   ],
   "source": [
    "matplotlib.rcParams['figure.figsize'] = (6.0, 6.0)\n",
    "train_data['floor_area_sqm'].hist()"
   ]
  },
  {
   "cell_type": "markdown",
   "metadata": {},
   "source": [
    "## 2. Feature engineering\n",
    "\n",
    "Specifically:\n",
    "\n",
    "### 2.1. Dropping features\n",
    "    - Redundant ones, e.g. latitude, longitude\n",
    "    - Costly to deal with, e.g. street_name\n",
    "### 2.2. Extracting information from existing features\n",
    "    - e.g. postal_code\n",
    "### 2.3. Numerial-categorical conversion\n",
    "    - e.g. month\n",
    "### 2.4. Handling skewness of features\n",
    "    - e.g. resale_price"
   ]
  },
  {
   "cell_type": "code",
   "execution_count": 6,
   "metadata": {},
   "outputs": [],
   "source": [
    "train = train_data.drop(['index','floor','street_name','latitude','longitude'], axis=1)\n",
    "test = test_data.drop(['index','floor','street_name','latitude','longitude'], axis=1)"
   ]
  },
  {
   "cell_type": "code",
   "execution_count": 7,
   "metadata": {},
   "outputs": [],
   "source": [
    "from scipy.special import boxcox1p, inv_boxcox1p\n",
    "def create_dummies(df,column_name):\n",
    "    dummies = pd.get_dummies(df[column_name],prefix=column_name)\n",
    "    df = pd.concat([df,dummies],axis=1)\n",
    "    return df\n",
    "\n",
    "def process_block(df):\n",
    "    cut_points = [0, 50, 100, 200, 300, 400, 500, 600, 700, 800, 900, 1000]\n",
    "    labels=label_names = ['0+','50+', '100+', '200+','300+','400+','500+','600+','700+','800+','900+']\n",
    "    df[\"block_cat\"] = pd.cut(df[\"block\"],cut_points,labels=label_names)\n",
    "    df = df.drop(['block'], axis=1)\n",
    "    return df\n",
    "\n",
    "def process_flat_type(df):\n",
    "    flat_type_mapping = {'1 ROOM':1,'2 ROOM':1.978, '3 ROOM':3.002, '4 ROOM':4.736, '5 ROOM':6.403,\n",
    "                         'EXECUTIVE':7.828, 'MULTI GENERATION':7.985}\n",
    "    df['flat_type'] = df['flat_type'].map(flat_type_mapping)\n",
    "    df['flat_type_scaled'] = df['flat_type']/8\n",
    "    df = df.drop(['flat_type'], axis=1)\n",
    "    return df\n",
    "\n",
    "def process_floor_area_sqm(df):\n",
    "    df['floor_area_sqm'] = boxcox1p(df['floor_area_sqm'], 0.19)\n",
    "    x = boxcox1p(train_data['floor_area_sqm'], 0.19)\n",
    "    y = boxcox1p(test_data['floor_area_sqm'], 0.19)\n",
    "    largest = max(np.max(x), np.max(y))\n",
    "    smallest = min(np.min(x), np.min(y))\n",
    "    df[\"floor_area_sqm_scaled\"] = (df['floor_area_sqm'] - smallest)/(largest - smallest)\n",
    "    df = df.drop(['floor_area_sqm'], axis=1)\n",
    "    return df\n",
    "\n",
    "def process_lease_commence_date(df):\n",
    "    cut_points = [1960, 1970, 1980, 1990, 2000, 2010, 2020]\n",
    "    labels=label_names = ['1960s','1970s','1980s','1990s','2000s','2010s']\n",
    "    df[\"lease_commence_date_cat\"] = pd.cut(df[\"lease_commence_date\"],cut_points,labels=label_names)\n",
    "    df = df.drop(['lease_commence_date'], axis=1)\n",
    "    return df\n",
    "\n",
    "def process_lease_commence_date_2(df):\n",
    "    df[\"lease_commence_date\"] = df[\"lease_commence_date\"] - 1965\n",
    "    deno = 2018-1965\n",
    "    df[\"lease_commence_date_scaled\"] = df['lease_commence_date']/deno\n",
    "    df = df.drop(['lease_commence_date'], axis=1)\n",
    "    return df\n",
    "\n",
    "def process_month(df):\n",
    "    df['month'] = df['month'].str[:4].astype(int)\n",
    "    cut_points = [1989, 1993, 1996, 1999, 2002, 2005, 2008, 2011, 2014, 2017, 2020]\n",
    "    labels=label_names = ['1990+','1993+', '1996+', '1999+', '2002+', '2005+', '2008+', '2011+', '2014+', '2017+']\n",
    "    df[\"month_cat\"] = pd.cut(df[\"month\"],cut_points,labels=label_names)\n",
    "    df = df.drop(['month'], axis=1)\n",
    "    return df\n",
    "\n",
    "def process_month_2(df):\n",
    "    df['month'] = (pd.to_datetime(df['month']) - pd.to_datetime('1989-12'))\n",
    "    deno = pd.to_datetime('2017-12') - pd.to_datetime('1989-12')\n",
    "    df['month_scaled'] = df['month']/deno\n",
    "    df = df.drop(['month'], axis=1)\n",
    "    return df\n",
    "\n",
    "def process_postal_code(df):\n",
    "    df['postal_code'] = df['postal_code'].astype(str).str[:2]\n",
    "    return df\n",
    "\n",
    "def process_latitude(df):\n",
    "    largest = max(np.max(train['latitude']), np.max(test['latitude']))\n",
    "    smallest = min(np.min(train['latitude']), np.min(test['latitude']))\n",
    "    df[\"latitude_scaled\"] = (df['latitude'] - smallest)/(largest - smallest)\n",
    "    df = df.drop(['latitude'], axis=1)\n",
    "    return df\n",
    "\n",
    "def process_longitude(df):\n",
    "    largest = max(np.max(train['longitude']), np.max(test['longitude']))\n",
    "    smallest = min(np.min(train['longitude']), np.min(test['longitude']))\n",
    "    df[\"longitude_scaled\"] = (df['longitude'] - smallest)/(largest - smallest)\n",
    "    df = df.drop(['longitude'], axis=1)\n",
    "    return df\n",
    "\n",
    "def process_dummies(df):\n",
    "    cols = ['flat_model','storey_range','postal_code', 'town','block_cat']\n",
    "    for col in cols:\n",
    "        df = create_dummies(df, col)\n",
    "        df = df.drop([col], axis=1)\n",
    "    return df\n",
    "\n",
    "def process_resale_price(df):\n",
    "    df['resale_price'] = boxcox1p(df['resale_price'], 0.48)\n",
    "    return df\n",
    "\n",
    "def process_train(df):\n",
    "    df = process_block(df)\n",
    "    df = process_flat_type(df)\n",
    "    df = process_floor_area_sqm(df)\n",
    "    df = process_lease_commence_date_2(df)\n",
    "    df = process_postal_code(df)\n",
    "    df = process_month_2(df)\n",
    "    df = process_dummies(df)\n",
    "    df = process_resale_price(df)\n",
    "    return df\n",
    "\n",
    "def process_test(df):\n",
    "    df = process_block(df)\n",
    "    df = process_flat_type(df)\n",
    "    df = process_floor_area_sqm(df)\n",
    "    df = process_lease_commence_date_2(df)\n",
    "    df = process_postal_code(df)\n",
    "    df = process_month_2(df)\n",
    "    df = process_dummies(df)\n",
    "    return df\n",
    "\n",
    "def mean_absolute_percentage_error(y_true, y_pred):\n",
    "    y_true, y_pred = inv_boxcox1p(y_true, 0.48), inv_boxcox1p(y_pred, 0.48)\n",
    "    return np.mean(np.abs((y_true - y_pred) / y_true)) * 100"
   ]
  },
  {
   "cell_type": "code",
   "execution_count": 8,
   "metadata": {},
   "outputs": [],
   "source": [
    "train_processed = process_train(train)\n",
    "all_y = train_processed['resale_price']\n",
    "all_X = train_processed.drop(['resale_price'], axis=1)\n",
    "test_processed = process_test(test)"
   ]
  },
  {
   "cell_type": "code",
   "execution_count": 9,
   "metadata": {},
   "outputs": [],
   "source": [
    "from sklearn.model_selection import train_test_split\n",
    "index_array = all_X.index\n",
    "X_train, X_val, y_train, y_val, train_id, val_id = train_test_split(all_X, all_y, index_array,\n",
    "                                                                    test_size = 0.2, random_state = 42)"
   ]
  },
  {
   "cell_type": "markdown",
   "metadata": {},
   "source": [
    "## 3. Model selection\n",
    "\n",
    "Tried several models:\n",
    "- Nearest Neighbor Regression\n",
    "- Support Vector Regression\n",
    "- Linear Regression\n",
    "- Lasso\n",
    "- Regression Tree\n",
    "- Random Forest\n",
    "- Xgboost\n",
    "- Lightgbm"
   ]
  },
  {
   "cell_type": "markdown",
   "metadata": {},
   "source": [
    "### Evaluate performance"
   ]
  },
  {
   "cell_type": "code",
   "execution_count": 10,
   "metadata": {},
   "outputs": [],
   "source": [
    "from sklearn.metrics import make_scorer\n",
    "from sklearn.model_selection import cross_val_score\n",
    "\n",
    "mape_scoring = make_scorer(mean_absolute_percentage_error, greater_is_better=False)\n",
    "\n",
    "def mape_cv(model):\n",
    "    mape = -cross_val_score(model, all_X, all_y, scoring=mape_scoring, cv = 5)\n",
    "    return(mape)"
   ]
  },
  {
   "cell_type": "markdown",
   "metadata": {},
   "source": [
    "### 3.1. Random forest"
   ]
  },
  {
   "cell_type": "code",
   "execution_count": 12,
   "metadata": {},
   "outputs": [
    {
     "name": "stdout",
     "output_type": "stream",
     "text": [
      "The mean-absolute-percentage-error of the random forest model is: 5.8561962486366586\n"
     ]
    }
   ],
   "source": [
    "from sklearn.ensemble import RandomForestRegressor\n",
    "rf = RandomForestRegressor(random_state=2)\n",
    "rf.fit(X_train, y_train)\n",
    "rf_predictions = rf.predict(X_val)\n",
    "mape_rf = mean_absolute_percentage_error(y_val, rf_predictions)\n",
    "print(\"The mean-absolute-percentage-error of the random forest model is:\", mape_rf)"
   ]
  },
  {
   "cell_type": "markdown",
   "metadata": {},
   "source": [
    "### 3.2. Lightgbm"
   ]
  },
  {
   "cell_type": "code",
   "execution_count": 14,
   "metadata": {},
   "outputs": [
    {
     "name": "stdout",
     "output_type": "stream",
     "text": [
      "The mean-absolute-percentage-error of the XGB model is: 6.951962535668913\n"
     ]
    }
   ],
   "source": [
    "import lightgbm as lgb\n",
    "model_lgb = lgb.LGBMRegressor(objective='regression')\n",
    "model_lgb.fit(X_train, y_train)\n",
    "lgb_predictions = model_lgb.predict(X_val)\n",
    "mape_lgb = mean_absolute_percentage_error(y_val, lgb_predictions)\n",
    "print(\"The mean-absolute-percentage-error of the XGB model is:\", mape_lgb)"
   ]
  },
  {
   "cell_type": "markdown",
   "metadata": {},
   "source": [
    "### 3.3. Combining the models"
   ]
  },
  {
   "cell_type": "code",
   "execution_count": 15,
   "metadata": {},
   "outputs": [],
   "source": [
    "from sklearn.base import BaseEstimator, TransformerMixin, RegressorMixin, clone\n",
    "class AveragingModels(BaseEstimator, RegressorMixin, TransformerMixin):\n",
    "    def __init__(self, models):\n",
    "        self.models = models\n",
    "        \n",
    "    # we define clones of the original models to fit the data in\n",
    "    def fit(self, X, y):\n",
    "        self.models_ = [clone(x) for x in self.models]\n",
    "        \n",
    "        # Train cloned base models\n",
    "        for model in self.models_:\n",
    "            model.fit(X, y)\n",
    "\n",
    "        return self\n",
    "    \n",
    "    #Now we do the predictions for cloned models and average them\n",
    "    def predict(self, X):\n",
    "        predictions = np.column_stack([\n",
    "            model.predict(X) for model in self.models_\n",
    "        ])\n",
    "        return np.mean(predictions, axis=1)   "
   ]
  },
  {
   "cell_type": "code",
   "execution_count": 16,
   "metadata": {},
   "outputs": [
    {
     "name": "stdout",
     "output_type": "stream",
     "text": [
      "The mean-absolute-percentage-error of the stacking model is: 5.84605305710387\n"
     ]
    }
   ],
   "source": [
    "model_lgb = lgb.LGBMRegressor(objective='regression')\n",
    "rf = RandomForestRegressor(random_state=2)\n",
    "averaged_models = AveragingModels(models = (model_lgb, rf))\n",
    "averaged_models.fit(X_train, y_train)\n",
    "averaged_models_predictions = averaged_models.predict(X_val)\n",
    "mape_avg = mean_absolute_percentage_error(y_val, averaged_models_predictions)\n",
    "print(\"The mean-absolute-percentage-error of the stacking model is:\", mape_avg)"
   ]
  },
  {
   "cell_type": "markdown",
   "metadata": {},
   "source": [
    "## 4. Improvement\n",
    "\n",
    "- Make use of street_name\n",
    "- Get more information from longitude, latitude\n",
    "- Include a meta model in the combination"
   ]
  }
 ],
 "metadata": {
  "kernelspec": {
   "display_name": "Python 3",
   "language": "python",
   "name": "python3"
  },
  "language_info": {
   "codemirror_mode": {
    "name": "ipython",
    "version": 3
   },
   "file_extension": ".py",
   "mimetype": "text/x-python",
   "name": "python",
   "nbconvert_exporter": "python",
   "pygments_lexer": "ipython3",
   "version": "3.6.4"
  }
 },
 "nbformat": 4,
 "nbformat_minor": 2
}
