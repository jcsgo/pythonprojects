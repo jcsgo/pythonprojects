{
 "cells": [
  {
   "cell_type": "markdown",
   "metadata": {},
   "source": [
    "## Housing Prices in Singapore"
   ]
  },
  {
   "cell_type": "markdown",
   "metadata": {},
   "source": [
    "This exercise will attempt to predict resale housing prices in Singapore"
   ]
  },
  {
   "cell_type": "code",
   "execution_count": 1,
   "metadata": {
    "collapsed": true
   },
   "outputs": [],
   "source": [
    "# data \n",
    "import pandas as pd\n",
    "\n",
    "# directories\n",
    "import os\n",
    "#os.getcwd() #get working directory\n",
    "\n",
    "# To plot pretty figures\n",
    "%matplotlib inline\n",
    "import matplotlib\n",
    "import matplotlib.pyplot as plt\n"
   ]
  },
  {
   "cell_type": "code",
   "execution_count": 2,
   "metadata": {
    "collapsed": false
   },
   "outputs": [
    {
     "name": "stdout",
     "output_type": "stream",
     "text": [
      "Training Data has 607992 instances\n",
      "Test Data has 151999 instances\n"
     ]
    }
   ],
   "source": [
    "# Set the relative director for training data\n",
    "root_dir = \"~\"\n",
    "train_data_dir = os.path.join(root_dir,\"pythonprojects\",\"Yidu\",\"HW1 Data\",\"train.csv\")\n",
    "test_data_dir = os.path.join(root_dir,\"pythonprojects\",\"Yidu\",\"HW1 Data\",\"test.csv\")\n",
    "\n",
    "# read the data frame\n",
    "train_data = pd.read_csv(train_data_dir)\n",
    "test_data = pd.read_csv(test_data_dir)\n",
    "\n",
    "# Print out number of instances for each dataset\n",
    "print(\"Training Data has {0} instances\".format(len(train_data)))\n",
    "print(\"Test Data has {0} instances\".format(len(test_data)))"
   ]
  },
  {
   "cell_type": "code",
   "execution_count": 3,
   "metadata": {
    "collapsed": false
   },
   "outputs": [
    {
     "name": "stdout",
     "output_type": "stream",
     "text": [
      "Index(['index', 'block', 'flat_model', 'flat_type', 'floor_area_sqm',\n",
      "       'lease_commence_date', 'month', 'resale_price', 'storey_range',\n",
      "       'street_name', 'town', 'latitude', 'longitude', 'postal_code', 'floor'],\n",
      "      dtype='object')\n"
     ]
    },
    {
     "data": {
      "text/html": [
       "<div>\n",
       "<table border=\"1\" class=\"dataframe\">\n",
       "  <thead>\n",
       "    <tr style=\"text-align: right;\">\n",
       "      <th></th>\n",
       "      <th>index</th>\n",
       "      <th>floor_area_sqm</th>\n",
       "      <th>lease_commence_date</th>\n",
       "      <th>resale_price</th>\n",
       "      <th>latitude</th>\n",
       "      <th>longitude</th>\n",
       "      <th>postal_code</th>\n",
       "      <th>floor</th>\n",
       "    </tr>\n",
       "  </thead>\n",
       "  <tbody>\n",
       "    <tr>\n",
       "      <th>count</th>\n",
       "      <td>607992.000000</td>\n",
       "      <td>607992.000000</td>\n",
       "      <td>607992.000000</td>\n",
       "      <td>6.079920e+05</td>\n",
       "      <td>607992.000000</td>\n",
       "      <td>607992.000000</td>\n",
       "      <td>607992.000000</td>\n",
       "      <td>607992.000000</td>\n",
       "    </tr>\n",
       "    <tr>\n",
       "      <th>mean</th>\n",
       "      <td>303995.500000</td>\n",
       "      <td>95.542603</td>\n",
       "      <td>1986.547621</td>\n",
       "      <td>2.815431e+05</td>\n",
       "      <td>1.360492</td>\n",
       "      <td>103.838869</td>\n",
       "      <td>530443.042961</td>\n",
       "      <td>7.457277</td>\n",
       "    </tr>\n",
       "    <tr>\n",
       "      <th>std</th>\n",
       "      <td>175512.316769</td>\n",
       "      <td>26.191181</td>\n",
       "      <td>8.792567</td>\n",
       "      <td>1.414718e+05</td>\n",
       "      <td>0.041371</td>\n",
       "      <td>0.074209</td>\n",
       "      <td>180497.930226</td>\n",
       "      <td>4.504902</td>\n",
       "    </tr>\n",
       "    <tr>\n",
       "      <th>min</th>\n",
       "      <td>0.000000</td>\n",
       "      <td>28.000000</td>\n",
       "      <td>1966.000000</td>\n",
       "      <td>5.600000e+03</td>\n",
       "      <td>1.270380</td>\n",
       "      <td>103.685228</td>\n",
       "      <td>50004.000000</td>\n",
       "      <td>2.000000</td>\n",
       "    </tr>\n",
       "    <tr>\n",
       "      <th>25%</th>\n",
       "      <td>151997.750000</td>\n",
       "      <td>72.000000</td>\n",
       "      <td>1980.000000</td>\n",
       "      <td>1.750000e+05</td>\n",
       "      <td>1.333037</td>\n",
       "      <td>103.772579</td>\n",
       "      <td>460501.000000</td>\n",
       "      <td>5.000000</td>\n",
       "    </tr>\n",
       "    <tr>\n",
       "      <th>50%</th>\n",
       "      <td>303995.500000</td>\n",
       "      <td>93.000000</td>\n",
       "      <td>1985.000000</td>\n",
       "      <td>2.630000e+05</td>\n",
       "      <td>1.353276</td>\n",
       "      <td>103.842318</td>\n",
       "      <td>550140.000000</td>\n",
       "      <td>8.000000</td>\n",
       "    </tr>\n",
       "    <tr>\n",
       "      <th>75%</th>\n",
       "      <td>455993.250000</td>\n",
       "      <td>115.000000</td>\n",
       "      <td>1993.000000</td>\n",
       "      <td>3.688000e+05</td>\n",
       "      <td>1.379559</td>\n",
       "      <td>103.897606</td>\n",
       "      <td>650503.000000</td>\n",
       "      <td>11.000000</td>\n",
       "    </tr>\n",
       "    <tr>\n",
       "      <th>max</th>\n",
       "      <td>607991.000000</td>\n",
       "      <td>307.000000</td>\n",
       "      <td>2015.000000</td>\n",
       "      <td>1.180000e+06</td>\n",
       "      <td>1.457071</td>\n",
       "      <td>103.987805</td>\n",
       "      <td>825195.000000</td>\n",
       "      <td>50.000000</td>\n",
       "    </tr>\n",
       "  </tbody>\n",
       "</table>\n",
       "</div>"
      ],
      "text/plain": [
       "               index  floor_area_sqm  lease_commence_date  resale_price  \\\n",
       "count  607992.000000   607992.000000        607992.000000  6.079920e+05   \n",
       "mean   303995.500000       95.542603          1986.547621  2.815431e+05   \n",
       "std    175512.316769       26.191181             8.792567  1.414718e+05   \n",
       "min         0.000000       28.000000          1966.000000  5.600000e+03   \n",
       "25%    151997.750000       72.000000          1980.000000  1.750000e+05   \n",
       "50%    303995.500000       93.000000          1985.000000  2.630000e+05   \n",
       "75%    455993.250000      115.000000          1993.000000  3.688000e+05   \n",
       "max    607991.000000      307.000000          2015.000000  1.180000e+06   \n",
       "\n",
       "            latitude      longitude    postal_code          floor  \n",
       "count  607992.000000  607992.000000  607992.000000  607992.000000  \n",
       "mean        1.360492     103.838869  530443.042961       7.457277  \n",
       "std         0.041371       0.074209  180497.930226       4.504902  \n",
       "min         1.270380     103.685228   50004.000000       2.000000  \n",
       "25%         1.333037     103.772579  460501.000000       5.000000  \n",
       "50%         1.353276     103.842318  550140.000000       8.000000  \n",
       "75%         1.379559     103.897606  650503.000000      11.000000  \n",
       "max         1.457071     103.987805  825195.000000      50.000000  "
      ]
     },
     "execution_count": 3,
     "metadata": {},
     "output_type": "execute_result"
    }
   ],
   "source": [
    "print(train_data.columns)\n",
    "train_data.describe()"
   ]
  },
  {
   "cell_type": "markdown",
   "metadata": {},
   "source": [
    "#### The Plan\n",
    "1. Data Exploration\n",
    "2. Splitting Postal Code\n",
    "3. Plotting Housing Prices "
   ]
  },
  {
   "cell_type": "markdown",
   "metadata": {},
   "source": [
    "### Data Exploration"
   ]
  },
  {
   "cell_type": "code",
   "execution_count": 4,
   "metadata": {
    "collapsed": false
   },
   "outputs": [
    {
     "name": "stdout",
     "output_type": "stream",
     "text": [
      "<class 'pandas.core.frame.DataFrame'>\n",
      "RangeIndex: 607992 entries, 0 to 607991\n",
      "Data columns (total 15 columns):\n",
      "index                  607992 non-null int64\n",
      "block                  607992 non-null object\n",
      "flat_model             607992 non-null object\n",
      "flat_type              607992 non-null object\n",
      "floor_area_sqm         607992 non-null float64\n",
      "lease_commence_date    607992 non-null int64\n",
      "month                  607992 non-null object\n",
      "resale_price           607992 non-null float64\n",
      "storey_range           607992 non-null object\n",
      "street_name            607992 non-null object\n",
      "town                   607992 non-null object\n",
      "latitude               607992 non-null float64\n",
      "longitude              607992 non-null float64\n",
      "postal_code            607992 non-null int64\n",
      "floor                  607992 non-null int64\n",
      "dtypes: float64(4), int64(4), object(7)\n",
      "memory usage: 69.6+ MB\n"
     ]
    }
   ],
   "source": [
    "train_data.info()"
   ]
  },
  {
   "cell_type": "code",
   "execution_count": 5,
   "metadata": {
    "collapsed": false
   },
   "outputs": [
    {
     "data": {
      "image/png": "[encoded data removed]",
      "text/plain": [
       "<matplotlib.figure.Figure at 0x7fa9a803d198>"
      ]
     },
     "metadata": {},
     "output_type": "display_data"
    }
   ],
   "source": [
    "train_data.hist(bins=50, figsize=(20,15))\n",
    "plt.show()"
   ]
  },
  {
   "cell_type": "code",
   "execution_count": 6,
   "metadata": {
    "collapsed": false
   },
   "outputs": [
    {
     "data": {
      "image/png": "[encoded data removed]",
      "text/plain": [
       "<matplotlib.figure.Figure at 0x7fa9a7d8af28>"
      ]
     },
     "metadata": {},
     "output_type": "display_data"
    }
   ],
   "source": [
    "train_data.plot(kind=\"scatter\", x=\"longitude\", y=\"latitude\", alpha=0.1)\n",
    "plt.show()"
   ]
  },
  {
   "cell_type": "code",
   "execution_count": 7,
   "metadata": {
    "collapsed": false
   },
   "outputs": [
    {
     "data": {
      "text/plain": [
       "0    312000.0\n",
       "1    415000.0\n",
       "2    545000.0\n",
       "3      7000.0\n",
       "4    278000.0\n",
       "Name: resale_price, dtype: float64"
      ]
     },
     "execution_count": 7,
     "metadata": {},
     "output_type": "execute_result"
    }
   ],
   "source": [
    "# Splitting y_train\n",
    "y_train_data = train_data.loc[:,'resale_price']\n",
    "y_train_data.head()"
   ]
  },
  {
   "cell_type": "code",
   "execution_count": 8,
   "metadata": {
    "collapsed": false
   },
   "outputs": [
    {
     "name": "stdout",
     "output_type": "stream",
     "text": [
      "<class 'pandas.core.frame.DataFrame'>\n",
      "RangeIndex: 607992 entries, 0 to 607991\n",
      "Data columns (total 13 columns):\n",
      "block                  607992 non-null object\n",
      "flat_model             607992 non-null object\n",
      "flat_type              607992 non-null object\n",
      "floor_area_sqm         607992 non-null float64\n",
      "lease_commence_date    607992 non-null int64\n",
      "month                  607992 non-null object\n",
      "storey_range           607992 non-null object\n",
      "street_name            607992 non-null object\n",
      "town                   607992 non-null object\n",
      "latitude               607992 non-null float64\n",
      "longitude              607992 non-null float64\n",
      "postal_code            607992 non-null int64\n",
      "floor                  607992 non-null int64\n",
      "dtypes: float64(3), int64(3), object(7)\n",
      "memory usage: 60.3+ MB\n",
      "<class 'pandas.core.frame.DataFrame'>\n",
      "RangeIndex: 151999 entries, 0 to 151998\n",
      "Data columns (total 13 columns):\n",
      "block                  151999 non-null object\n",
      "flat_model             151999 non-null object\n",
      "flat_type              151999 non-null object\n",
      "floor_area_sqm         151999 non-null float64\n",
      "lease_commence_date    151999 non-null int64\n",
      "month                  151999 non-null object\n",
      "storey_range           151999 non-null object\n",
      "street_name            151999 non-null object\n",
      "town                   151999 non-null object\n",
      "latitude               151999 non-null float64\n",
      "longitude              151999 non-null float64\n",
      "postal_code            151999 non-null int64\n",
      "floor                  151999 non-null int64\n",
      "dtypes: float64(3), int64(3), object(7)\n",
      "memory usage: 15.1+ MB\n"
     ]
    }
   ],
   "source": [
    "# Getting x_train_data and x_test_data\n",
    "\n",
    "x_train_data = train_data.loc[:, train_data.columns != 'resale_price']\n",
    "x_train_data = x_train_data.loc[:, x_train_data.columns != 'index']\n",
    "x_train_data.info()\n",
    "\n",
    "x_test_data = test_data\n",
    "x_test_data = x_test_data.loc[:, x_test_data.columns != 'index']\n",
    "x_test_data.info()"
   ]
  },
  {
   "cell_type": "markdown",
   "metadata": {},
   "source": [
    "### Data Preparation"
   ]
  },
  {
   "cell_type": "code",
   "execution_count": 9,
   "metadata": {
    "collapsed": false
   },
   "outputs": [
    {
     "data": {
      "text/html": [
       "<div>\n",
       "<table border=\"1\" class=\"dataframe\">\n",
       "  <thead>\n",
       "    <tr style=\"text-align: right;\">\n",
       "      <th></th>\n",
       "      <th>block</th>\n",
       "      <th>flat_model</th>\n",
       "      <th>flat_type</th>\n",
       "      <th>floor_area_sqm</th>\n",
       "      <th>lease_commence_date</th>\n",
       "      <th>month</th>\n",
       "      <th>storey_range</th>\n",
       "      <th>street_name</th>\n",
       "      <th>town</th>\n",
       "      <th>latitude</th>\n",
       "      <th>longitude</th>\n",
       "      <th>postal_code</th>\n",
       "      <th>floor</th>\n",
       "    </tr>\n",
       "  </thead>\n",
       "  <tbody>\n",
       "    <tr>\n",
       "      <th>0</th>\n",
       "      <td>250</td>\n",
       "      <td>MODEL A</td>\n",
       "      <td>4 ROOM</td>\n",
       "      <td>105.0</td>\n",
       "      <td>1992</td>\n",
       "      <td>2001-11</td>\n",
       "      <td>04 TO 06</td>\n",
       "      <td>BISHAN ST 22</td>\n",
       "      <td>BISHAN</td>\n",
       "      <td>1.361615</td>\n",
       "      <td>103.843937</td>\n",
       "      <td>570250</td>\n",
       "      <td>5</td>\n",
       "    </tr>\n",
       "    <tr>\n",
       "      <th>1</th>\n",
       "      <td>166</td>\n",
       "      <td>IMPROVED</td>\n",
       "      <td>5 ROOM</td>\n",
       "      <td>121.0</td>\n",
       "      <td>1987</td>\n",
       "      <td>1996-07</td>\n",
       "      <td>10 TO 12</td>\n",
       "      <td>YISHUN RING RD</td>\n",
       "      <td>YISHUN</td>\n",
       "      <td>1.436284</td>\n",
       "      <td>103.831607</td>\n",
       "      <td>760166</td>\n",
       "      <td>11</td>\n",
       "    </tr>\n",
       "    <tr>\n",
       "      <th>2</th>\n",
       "      <td>306D</td>\n",
       "      <td>PREMIUM APARTMENT</td>\n",
       "      <td>4 ROOM</td>\n",
       "      <td>93.0</td>\n",
       "      <td>2012</td>\n",
       "      <td>2017-04</td>\n",
       "      <td>10 TO 12</td>\n",
       "      <td>PUNGGOL DR</td>\n",
       "      <td>PUNGGOL</td>\n",
       "      <td>1.406081</td>\n",
       "      <td>103.906438</td>\n",
       "      <td>824306</td>\n",
       "      <td>11</td>\n",
       "    </tr>\n",
       "    <tr>\n",
       "      <th>3</th>\n",
       "      <td>33</td>\n",
       "      <td>IMPROVED</td>\n",
       "      <td>1 ROOM</td>\n",
       "      <td>29.0</td>\n",
       "      <td>1969</td>\n",
       "      <td>1990-07</td>\n",
       "      <td>04 TO 06</td>\n",
       "      <td>TAMAN HO SWEE</td>\n",
       "      <td>BUKIT MERAH</td>\n",
       "      <td>1.288226</td>\n",
       "      <td>103.831906</td>\n",
       "      <td>161033</td>\n",
       "      <td>5</td>\n",
       "    </tr>\n",
       "    <tr>\n",
       "      <th>4</th>\n",
       "      <td>312</td>\n",
       "      <td>NEW GENERATION</td>\n",
       "      <td>4 ROOM</td>\n",
       "      <td>98.0</td>\n",
       "      <td>1985</td>\n",
       "      <td>2000-07</td>\n",
       "      <td>10 TO 12</td>\n",
       "      <td>SERANGOON AVE 2</td>\n",
       "      <td>SERANGOON</td>\n",
       "      <td>1.353288</td>\n",
       "      <td>103.865796</td>\n",
       "      <td>550312</td>\n",
       "      <td>11</td>\n",
       "    </tr>\n",
       "  </tbody>\n",
       "</table>\n",
       "</div>"
      ],
      "text/plain": [
       "  block         flat_model flat_type  floor_area_sqm  lease_commence_date  \\\n",
       "0   250            MODEL A    4 ROOM           105.0                 1992   \n",
       "1   166           IMPROVED    5 ROOM           121.0                 1987   \n",
       "2  306D  PREMIUM APARTMENT    4 ROOM            93.0                 2012   \n",
       "3    33           IMPROVED    1 ROOM            29.0                 1969   \n",
       "4   312     NEW GENERATION    4 ROOM            98.0                 1985   \n",
       "\n",
       "     month storey_range      street_name         town  latitude   longitude  \\\n",
       "0  2001-11     04 TO 06     BISHAN ST 22       BISHAN  1.361615  103.843937   \n",
       "1  1996-07     10 TO 12   YISHUN RING RD       YISHUN  1.436284  103.831607   \n",
       "2  2017-04     10 TO 12       PUNGGOL DR      PUNGGOL  1.406081  103.906438   \n",
       "3  1990-07     04 TO 06    TAMAN HO SWEE  BUKIT MERAH  1.288226  103.831906   \n",
       "4  2000-07     10 TO 12  SERANGOON AVE 2    SERANGOON  1.353288  103.865796   \n",
       "\n",
       "   postal_code  floor  \n",
       "0       570250      5  \n",
       "1       760166     11  \n",
       "2       824306     11  \n",
       "3       161033      5  \n",
       "4       550312     11  "
      ]
     },
     "execution_count": 9,
     "metadata": {},
     "output_type": "execute_result"
    }
   ],
   "source": [
    "x_train_data.head()"
   ]
  },
  {
   "cell_type": "code",
   "execution_count": 10,
   "metadata": {
    "collapsed": false
   },
   "outputs": [
    {
     "name": "stdout",
     "output_type": "stream",
     "text": [
      "street_name:  542\n",
      "town:  27\n",
      "flat_model:  20\n",
      "storey_range: 25\n",
      "floor: 22\n",
      "flat model:  20\n",
      "postal code:  8742\n",
      "block:  2178\n"
     ]
    }
   ],
   "source": [
    "# uniqueness of datasets\n",
    "print(\"street_name: \", len(set(x_train_data['street_name'])))\n",
    "print(\"town: \", len(set(x_train_data['town'])))\n",
    "print(\"flat_model: \", len(set(x_train_data['flat_model'])))\n",
    "print(\"storey_range:\", len(set(x_train_data['storey_range'])))\n",
    "print(\"floor:\", len(set(x_train_data['floor'])))\n",
    "print(\"flat model: \", len(set(x_train_data['flat_model'])))\n",
    "print(\"postal code: \", len(set(x_train_data['postal_code'])))\n",
    "print(\"block: \", len(set(x_train_data['block'])))"
   ]
  },
  {
   "cell_type": "code",
   "execution_count": 11,
   "metadata": {
    "collapsed": true
   },
   "outputs": [],
   "source": [
    "# creating new variables\n",
    "x_train_data['lease_age'] = 2018 - x_train_data['lease_commence_date']\n",
    "x_test_data['lease_age'] = 2018 - x_test_data['lease_commence_date']"
   ]
  },
  {
   "cell_type": "code",
   "execution_count": 12,
   "metadata": {
    "collapsed": true
   },
   "outputs": [],
   "source": [
    "# dropping variables\n",
    "\n",
    "# street name - TOO MANY UNIQUE POINTS, PROBLEM WITH ENCODING\n",
    "x_train_data = x_train_data.loc[:, x_train_data.columns != 'street_name']\n",
    "x_test_data = x_test_data.loc[:, x_test_data.columns != 'street_name']\n",
    "\n",
    "# floor and storey range too similar, will drop STOREY RANGE \n",
    "x_train_data = x_train_data.loc[:, x_train_data.columns != 'storey_range']\n",
    "x_test_data = x_test_data.loc[:, x_test_data.columns != 'storey_range']\n",
    "\n",
    "# lease age > lease commence date, dropp lease commence date\n",
    "x_train_data = x_train_data.loc[:, x_train_data.columns != 'lease_commence_date']\n",
    "x_test_data = x_test_data.loc[:, x_test_data.columns != 'lease_commence_date']\n",
    "\n",
    "# dropping postal code - since we already have town\n",
    "x_train_data = x_train_data.loc[:, x_train_data.columns != 'postal_code']\n",
    "x_test_data = x_test_data.loc[:, x_test_data.columns != 'postal_code']\n",
    "\n",
    "# dropping block - too unique, probably not that important\n",
    "x_train_data = x_train_data.loc[:, x_train_data.columns != 'block']\n",
    "x_test_data = x_test_data.loc[:, x_test_data.columns != 'block']\n",
    "\n",
    "# dropping lat and long - already have town\n",
    "x_train_data = x_train_data.loc[:, x_train_data.columns != 'latitude']\n",
    "x_test_data = x_test_data.loc[:, x_test_data.columns != 'latitude']\n",
    "\n",
    "x_train_data = x_train_data.loc[:, x_train_data.columns != 'longitude']\n",
    "x_test_data = x_test_data.loc[:, x_test_data.columns != 'longitude']\n",
    "\n",
    "# dropping month - already have lease_age\n",
    "x_train_data = x_train_data.loc[:, x_train_data.columns != 'month']\n",
    "x_test_data = x_test_data.loc[:, x_test_data.columns != 'month']\n"
   ]
  },
  {
   "cell_type": "code",
   "execution_count": 13,
   "metadata": {
    "collapsed": false
   },
   "outputs": [
    {
     "data": {
      "text/html": [
       "<div>\n",
       "<table border=\"1\" class=\"dataframe\">\n",
       "  <thead>\n",
       "    <tr style=\"text-align: right;\">\n",
       "      <th></th>\n",
       "      <th>flat_model</th>\n",
       "      <th>flat_type</th>\n",
       "      <th>floor_area_sqm</th>\n",
       "      <th>town</th>\n",
       "      <th>floor</th>\n",
       "      <th>lease_age</th>\n",
       "    </tr>\n",
       "  </thead>\n",
       "  <tbody>\n",
       "    <tr>\n",
       "      <th>0</th>\n",
       "      <td>MODEL A</td>\n",
       "      <td>4 ROOM</td>\n",
       "      <td>105.0</td>\n",
       "      <td>BISHAN</td>\n",
       "      <td>5</td>\n",
       "      <td>26</td>\n",
       "    </tr>\n",
       "    <tr>\n",
       "      <th>1</th>\n",
       "      <td>IMPROVED</td>\n",
       "      <td>5 ROOM</td>\n",
       "      <td>121.0</td>\n",
       "      <td>YISHUN</td>\n",
       "      <td>11</td>\n",
       "      <td>31</td>\n",
       "    </tr>\n",
       "    <tr>\n",
       "      <th>2</th>\n",
       "      <td>PREMIUM APARTMENT</td>\n",
       "      <td>4 ROOM</td>\n",
       "      <td>93.0</td>\n",
       "      <td>PUNGGOL</td>\n",
       "      <td>11</td>\n",
       "      <td>6</td>\n",
       "    </tr>\n",
       "    <tr>\n",
       "      <th>3</th>\n",
       "      <td>IMPROVED</td>\n",
       "      <td>1 ROOM</td>\n",
       "      <td>29.0</td>\n",
       "      <td>BUKIT MERAH</td>\n",
       "      <td>5</td>\n",
       "      <td>49</td>\n",
       "    </tr>\n",
       "    <tr>\n",
       "      <th>4</th>\n",
       "      <td>NEW GENERATION</td>\n",
       "      <td>4 ROOM</td>\n",
       "      <td>98.0</td>\n",
       "      <td>SERANGOON</td>\n",
       "      <td>11</td>\n",
       "      <td>33</td>\n",
       "    </tr>\n",
       "  </tbody>\n",
       "</table>\n",
       "</div>"
      ],
      "text/plain": [
       "          flat_model flat_type  floor_area_sqm         town  floor  lease_age\n",
       "0            MODEL A    4 ROOM           105.0       BISHAN      5         26\n",
       "1           IMPROVED    5 ROOM           121.0       YISHUN     11         31\n",
       "2  PREMIUM APARTMENT    4 ROOM            93.0      PUNGGOL     11          6\n",
       "3           IMPROVED    1 ROOM            29.0  BUKIT MERAH      5         49\n",
       "4     NEW GENERATION    4 ROOM            98.0    SERANGOON     11         33"
      ]
     },
     "execution_count": 13,
     "metadata": {},
     "output_type": "execute_result"
    }
   ],
   "source": [
    "# check before ecoding\n",
    "x_train_data.head()"
   ]
  },
  {
   "cell_type": "code",
   "execution_count": 14,
   "metadata": {
    "collapsed": false
   },
   "outputs": [
    {
     "data": {
      "text/plain": [
       "{'2-ROOM',\n",
       " 'ADJOINED FLAT',\n",
       " 'APARTMENT',\n",
       " 'DBSS',\n",
       " 'IMPROVED',\n",
       " 'IMPROVED-MAISONETTE',\n",
       " 'MAISONETTE',\n",
       " 'MODEL A',\n",
       " 'MODEL A-MAISONETTE',\n",
       " 'MODEL A2',\n",
       " 'MULTI GENERATION',\n",
       " 'NEW GENERATION',\n",
       " 'PREMIUM APARTMENT',\n",
       " 'PREMIUM APARTMENT LOFT',\n",
       " 'PREMIUM MAISONETTE',\n",
       " 'SIMPLIFIED',\n",
       " 'STANDARD',\n",
       " 'TERRACE',\n",
       " 'TYPE S1',\n",
       " 'TYPE S2'}"
      ]
     },
     "execution_count": 14,
     "metadata": {},
     "output_type": "execute_result"
    }
   ],
   "source": [
    "set(x_train_data['flat_model'])"
   ]
  },
  {
   "cell_type": "code",
   "execution_count": 15,
   "metadata": {
    "collapsed": false
   },
   "outputs": [
    {
     "data": {
      "text/plain": [
       "{'1 ROOM',\n",
       " '2 ROOM',\n",
       " '3 ROOM',\n",
       " '4 ROOM',\n",
       " '5 ROOM',\n",
       " 'EXECUTIVE',\n",
       " 'MULTI GENERATION'}"
      ]
     },
     "execution_count": 15,
     "metadata": {},
     "output_type": "execute_result"
    }
   ],
   "source": [
    "set(x_train_data['flat_type'])"
   ]
  },
  {
   "cell_type": "code",
   "execution_count": 16,
   "metadata": {
    "collapsed": true
   },
   "outputs": [],
   "source": [
    "#filling NA's with the median of the column:\n",
    "x_train_data = x_train_data.fillna(x_train_data.median())\n",
    "x_test_data = x_test_data.fillna(x_test_data.median())"
   ]
  },
  {
   "cell_type": "code",
   "execution_count": 17,
   "metadata": {
    "collapsed": false
   },
   "outputs": [
    {
     "data": {
      "text/html": [
       "<div>\n",
       "<table border=\"1\" class=\"dataframe\">\n",
       "  <thead>\n",
       "    <tr style=\"text-align: right;\">\n",
       "      <th></th>\n",
       "      <th>floor_area_sqm</th>\n",
       "      <th>floor</th>\n",
       "      <th>lease_age</th>\n",
       "    </tr>\n",
       "  </thead>\n",
       "  <tbody>\n",
       "    <tr>\n",
       "      <th>count</th>\n",
       "      <td>607992.000000</td>\n",
       "      <td>607992.000000</td>\n",
       "      <td>607992.000000</td>\n",
       "    </tr>\n",
       "    <tr>\n",
       "      <th>mean</th>\n",
       "      <td>95.542603</td>\n",
       "      <td>7.457277</td>\n",
       "      <td>31.452379</td>\n",
       "    </tr>\n",
       "    <tr>\n",
       "      <th>std</th>\n",
       "      <td>26.191181</td>\n",
       "      <td>4.504902</td>\n",
       "      <td>8.792567</td>\n",
       "    </tr>\n",
       "    <tr>\n",
       "      <th>min</th>\n",
       "      <td>28.000000</td>\n",
       "      <td>2.000000</td>\n",
       "      <td>3.000000</td>\n",
       "    </tr>\n",
       "    <tr>\n",
       "      <th>25%</th>\n",
       "      <td>72.000000</td>\n",
       "      <td>5.000000</td>\n",
       "      <td>25.000000</td>\n",
       "    </tr>\n",
       "    <tr>\n",
       "      <th>50%</th>\n",
       "      <td>93.000000</td>\n",
       "      <td>8.000000</td>\n",
       "      <td>33.000000</td>\n",
       "    </tr>\n",
       "    <tr>\n",
       "      <th>75%</th>\n",
       "      <td>115.000000</td>\n",
       "      <td>11.000000</td>\n",
       "      <td>38.000000</td>\n",
       "    </tr>\n",
       "    <tr>\n",
       "      <th>max</th>\n",
       "      <td>307.000000</td>\n",
       "      <td>50.000000</td>\n",
       "      <td>52.000000</td>\n",
       "    </tr>\n",
       "  </tbody>\n",
       "</table>\n",
       "</div>"
      ],
      "text/plain": [
       "       floor_area_sqm          floor      lease_age\n",
       "count   607992.000000  607992.000000  607992.000000\n",
       "mean        95.542603       7.457277      31.452379\n",
       "std         26.191181       4.504902       8.792567\n",
       "min         28.000000       2.000000       3.000000\n",
       "25%         72.000000       5.000000      25.000000\n",
       "50%         93.000000       8.000000      33.000000\n",
       "75%        115.000000      11.000000      38.000000\n",
       "max        307.000000      50.000000      52.000000"
      ]
     },
     "execution_count": 17,
     "metadata": {},
     "output_type": "execute_result"
    }
   ],
   "source": [
    "x_train_data.describe()"
   ]
  },
  {
   "cell_type": "markdown",
   "metadata": {},
   "source": [
    "One Hot Encoding"
   ]
  },
  {
   "cell_type": "code",
   "execution_count": 18,
   "metadata": {
    "collapsed": false
   },
   "outputs": [
    {
     "name": "stdout",
     "output_type": "stream",
     "text": [
      "   floor_area_sqm  floor  lease_age  flat_model_2-ROOM  \\\n",
      "0           105.0      5         26                0.0   \n",
      "1           121.0     11         31                0.0   \n",
      "2            93.0     11          6                0.0   \n",
      "3            29.0      5         49                0.0   \n",
      "4            98.0     11         33                0.0   \n",
      "\n",
      "   flat_model_ADJOINED FLAT  flat_model_APARTMENT  flat_model_DBSS  \\\n",
      "0                       0.0                   0.0              0.0   \n",
      "1                       0.0                   0.0              0.0   \n",
      "2                       0.0                   0.0              0.0   \n",
      "3                       0.0                   0.0              0.0   \n",
      "4                       0.0                   0.0              0.0   \n",
      "\n",
      "   flat_model_IMPROVED  flat_model_IMPROVED-MAISONETTE  flat_model_MAISONETTE  \\\n",
      "0                  0.0                             0.0                    0.0   \n",
      "1                  1.0                             0.0                    0.0   \n",
      "2                  0.0                             0.0                    0.0   \n",
      "3                  1.0                             0.0                    0.0   \n",
      "4                  0.0                             0.0                    0.0   \n",
      "\n",
      "      ...       town_PASIR RIS  town_PUNGGOL  town_QUEENSTOWN  town_SEMBAWANG  \\\n",
      "0     ...                  0.0           0.0              0.0             0.0   \n",
      "1     ...                  0.0           0.0              0.0             0.0   \n",
      "2     ...                  0.0           1.0              0.0             0.0   \n",
      "3     ...                  0.0           0.0              0.0             0.0   \n",
      "4     ...                  0.0           0.0              0.0             0.0   \n",
      "\n",
      "   town_SENGKANG  town_SERANGOON  town_TAMPINES  town_TOA PAYOH  \\\n",
      "0            0.0             0.0            0.0             0.0   \n",
      "1            0.0             0.0            0.0             0.0   \n",
      "2            0.0             0.0            0.0             0.0   \n",
      "3            0.0             0.0            0.0             0.0   \n",
      "4            0.0             1.0            0.0             0.0   \n",
      "\n",
      "   town_WOODLANDS  town_YISHUN  \n",
      "0             0.0          0.0  \n",
      "1             0.0          1.0  \n",
      "2             0.0          0.0  \n",
      "3             0.0          0.0  \n",
      "4             0.0          0.0  \n",
      "\n",
      "[5 rows x 57 columns]\n"
     ]
    }
   ],
   "source": [
    "x_train_data_encoded = pd.get_dummies(x_train_data)\n",
    "print(x_train_data_encoded.head())"
   ]
  },
  {
   "cell_type": "code",
   "execution_count": null,
   "metadata": {
    "collapsed": false
   },
   "outputs": [
    {
     "name": "stdout",
     "output_type": "stream",
     "text": [
      "   floor_area_sqm  floor  lease_age  flat_model_2-ROOM  \\\n",
      "0           105.0      5         26                0.0   \n",
      "1           121.0     11         31                0.0   \n",
      "2            93.0     11          6                0.0   \n",
      "3            29.0      5         49                0.0   \n",
      "4            98.0     11         33                0.0   \n",
      "\n",
      "   flat_model_ADJOINED FLAT  flat_model_APARTMENT  flat_model_DBSS  \\\n",
      "0                       0.0                   0.0              0.0   \n",
      "1                       0.0                   0.0              0.0   \n",
      "2                       0.0                   0.0              0.0   \n",
      "3                       0.0                   0.0              0.0   \n",
      "4                       0.0                   0.0              0.0   \n",
      "\n",
      "   flat_model_IMPROVED  flat_model_IMPROVED-MAISONETTE  flat_model_MAISONETTE  \\\n",
      "0                  0.0                             0.0                    0.0   \n",
      "1                  1.0                             0.0                    0.0   \n",
      "2                  0.0                             0.0                    0.0   \n",
      "3                  1.0                             0.0                    0.0   \n",
      "4                  0.0                             0.0                    0.0   \n",
      "\n",
      "      ...       town_PASIR RIS  town_PUNGGOL  town_QUEENSTOWN  town_SEMBAWANG  \\\n",
      "0     ...                  0.0           0.0              0.0             0.0   \n",
      "1     ...                  0.0           0.0              0.0             0.0   \n",
      "2     ...                  0.0           1.0              0.0             0.0   \n",
      "3     ...                  0.0           0.0              0.0             0.0   \n",
      "4     ...                  0.0           0.0              0.0             0.0   \n",
      "\n",
      "   town_SENGKANG  town_SERANGOON  town_TAMPINES  town_TOA PAYOH  \\\n",
      "0            0.0             0.0            0.0             0.0   \n",
      "1            0.0             0.0            0.0             0.0   \n",
      "2            0.0             0.0            0.0             0.0   \n",
      "3            0.0             0.0            0.0             0.0   \n",
      "4            0.0             1.0            0.0             0.0   \n",
      "\n",
      "   town_WOODLANDS  town_YISHUN  \n",
      "0             0.0          0.0  \n",
      "1             0.0          1.0  \n",
      "2             0.0          0.0  \n",
      "3             0.0          0.0  \n",
      "4             0.0          0.0  \n",
      "\n",
      "[5 rows x 57 columns]\n"
     ]
    }
   ],
   "source": [
    "# visualize\n",
    "print(x_train_data_encoded.head())"
   ]
  },
  {
   "cell_type": "markdown",
   "metadata": {},
   "source": [
    "### Model Selection"
   ]
  },
  {
   "cell_type": "markdown",
   "metadata": {},
   "source": [
    "Linear"
   ]
  },
  {
   "cell_type": "code",
   "execution_count": null,
   "metadata": {
    "collapsed": false
   },
   "outputs": [],
   "source": [
    "import sklearn.linear_model\n",
    "from sklearn.model_selection import cross_val_score\n",
    "\n",
    "model = sklearn.linear_model.LinearRegression()\n",
    "scores = cross_val_score(model, x_train_data_encoded, y_train_data,\n",
    "                         scoring=\"neg_mean_squared_error\", cv=3)\n",
    "tree_rmse_scores = np.sqrt(-scores)"
   ]
  },
  {
   "cell_type": "code",
   "execution_count": null,
   "metadata": {
    "collapsed": true
   },
   "outputs": [],
   "source": []
  }
 ],
 "metadata": {
  "kernelspec": {
   "display_name": "Python 3",
   "language": "python",
   "name": "python3"
  },
  "language_info": {
   "codemirror_mode": {
    "name": "ipython",
    "version": 3
   },
   "file_extension": ".py",
   "mimetype": "text/x-python",
   "name": "python",
   "nbconvert_exporter": "python",
   "pygments_lexer": "ipython3",
   "version": "3.5.1"
  }
 },
 "nbformat": 4,
 "nbformat_minor": 2
}
