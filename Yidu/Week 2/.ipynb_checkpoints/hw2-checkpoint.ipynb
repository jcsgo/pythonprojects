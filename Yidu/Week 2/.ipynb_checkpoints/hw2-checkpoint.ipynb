{
 "cells": [
  {
   "cell_type": "markdown",
   "metadata": {},
   "source": [
    "# Homework 2 - SPAM detection"
   ]
  },
  {
   "cell_type": "markdown",
   "metadata": {},
   "source": [
    "John Christopher Go"
   ]
  },
  {
   "cell_type": "markdown",
   "metadata": {},
   "source": [
    " "
   ]
  },
  {
   "cell_type": "markdown",
   "metadata": {},
   "source": [
    "#### 1. Import All Libraries"
   ]
  },
  {
   "cell_type": "code",
   "execution_count": 29,
   "metadata": {},
   "outputs": [],
   "source": [
    "import numpy as np\n",
    "import pandas as pd\n",
    "import statsmodels.api as sm\n",
    "import matplotlib.pyplot as plt\n",
    "%matplotlib inline\n",
    "from patsy import dmatrices\n",
    "from sklearn import metrics\n",
    "from sklearn.linear_model import LogisticRegression\n",
    "from sklearn.cross_validation import train_test_split\n",
    "from sklearn.cross_validation import cross_val_score\n",
    "from sklearn.feature_extraction.text import CountVectorizer\n",
    "from sklearn.feature_extraction.text import TfidfVectorizer\n",
    "from sklearn.feature_extraction.text import HashingVectorizer\n",
    "from sklearn.feature_extraction.text import TfidfTransformer\n",
    "from sklearn.naive_bayes import MultinomialNB\n",
    "from sklearn.metrics import f1_score\n",
    "from sklearn.metrics import classification_report\n",
    "from sklearn.pipeline import Pipeline"
   ]
  },
  {
   "cell_type": "markdown",
   "metadata": {},
   "source": [
    "#### 2. Importing Dataset"
   ]
  },
  {
   "cell_type": "code",
   "execution_count": 30,
   "metadata": {},
   "outputs": [],
   "source": [
    "my_data = pd.read_csv('Spam Project/spam.csv',encoding='latin-1')"
   ]
  },
  {
   "cell_type": "markdown",
   "metadata": {},
   "source": [
    "#### 3. Cleaning Dataset"
   ]
  },
  {
   "cell_type": "code",
   "execution_count": 31,
   "metadata": {},
   "outputs": [],
   "source": [
    "# removing columns full of NaNs\n",
    "my_data = my_data.drop(['Unnamed: 2','Unnamed: 3','Unnamed: 4'], axis=1)"
   ]
  },
  {
   "cell_type": "code",
   "execution_count": 32,
   "metadata": {},
   "outputs": [
    {
     "data": {
      "text/html": [
       "<div>\n",
       "<style>\n",
       "    .dataframe thead tr:only-child th {\n",
       "        text-align: right;\n",
       "    }\n",
       "\n",
       "    .dataframe thead th {\n",
       "        text-align: left;\n",
       "    }\n",
       "\n",
       "    .dataframe tbody tr th {\n",
       "        vertical-align: top;\n",
       "    }\n",
       "</style>\n",
       "<table border=\"1\" class=\"dataframe\">\n",
       "  <thead>\n",
       "    <tr style=\"text-align: right;\">\n",
       "      <th></th>\n",
       "      <th>v1</th>\n",
       "      <th>v2</th>\n",
       "    </tr>\n",
       "  </thead>\n",
       "  <tbody>\n",
       "    <tr>\n",
       "      <th>0</th>\n",
       "      <td>ham</td>\n",
       "      <td>Go until jurong point, crazy.. Available only ...</td>\n",
       "    </tr>\n",
       "    <tr>\n",
       "      <th>1</th>\n",
       "      <td>ham</td>\n",
       "      <td>Ok lar... Joking wif u oni...</td>\n",
       "    </tr>\n",
       "    <tr>\n",
       "      <th>2</th>\n",
       "      <td>spam</td>\n",
       "      <td>Free entry in 2 a wkly comp to win FA Cup fina...</td>\n",
       "    </tr>\n",
       "    <tr>\n",
       "      <th>3</th>\n",
       "      <td>ham</td>\n",
       "      <td>U dun say so early hor... U c already then say...</td>\n",
       "    </tr>\n",
       "    <tr>\n",
       "      <th>4</th>\n",
       "      <td>ham</td>\n",
       "      <td>Nah I don't think he goes to usf, he lives aro...</td>\n",
       "    </tr>\n",
       "  </tbody>\n",
       "</table>\n",
       "</div>"
      ],
      "text/plain": [
       "     v1                                                 v2\n",
       "0   ham  Go until jurong point, crazy.. Available only ...\n",
       "1   ham                      Ok lar... Joking wif u oni...\n",
       "2  spam  Free entry in 2 a wkly comp to win FA Cup fina...\n",
       "3   ham  U dun say so early hor... U c already then say...\n",
       "4   ham  Nah I don't think he goes to usf, he lives aro..."
      ]
     },
     "execution_count": 32,
     "metadata": {},
     "output_type": "execute_result"
    }
   ],
   "source": [
    "my_data.head()"
   ]
  },
  {
   "cell_type": "markdown",
   "metadata": {},
   "source": [
    "#### 4. Data Exploration"
   ]
  },
  {
   "cell_type": "code",
   "execution_count": 33,
   "metadata": {},
   "outputs": [
    {
     "data": {
      "text/html": [
       "<div>\n",
       "<style>\n",
       "    .dataframe thead tr:only-child th {\n",
       "        text-align: right;\n",
       "    }\n",
       "\n",
       "    .dataframe thead th {\n",
       "        text-align: left;\n",
       "    }\n",
       "\n",
       "    .dataframe tbody tr th {\n",
       "        vertical-align: top;\n",
       "    }\n",
       "</style>\n",
       "<table border=\"1\" class=\"dataframe\">\n",
       "  <thead>\n",
       "    <tr style=\"text-align: right;\">\n",
       "      <th></th>\n",
       "      <th>v1</th>\n",
       "      <th>v2</th>\n",
       "    </tr>\n",
       "  </thead>\n",
       "  <tbody>\n",
       "    <tr>\n",
       "      <th>count</th>\n",
       "      <td>5572</td>\n",
       "      <td>5572</td>\n",
       "    </tr>\n",
       "    <tr>\n",
       "      <th>unique</th>\n",
       "      <td>2</td>\n",
       "      <td>5169</td>\n",
       "    </tr>\n",
       "    <tr>\n",
       "      <th>top</th>\n",
       "      <td>ham</td>\n",
       "      <td>Sorry, I'll call later</td>\n",
       "    </tr>\n",
       "    <tr>\n",
       "      <th>freq</th>\n",
       "      <td>4825</td>\n",
       "      <td>30</td>\n",
       "    </tr>\n",
       "  </tbody>\n",
       "</table>\n",
       "</div>"
      ],
      "text/plain": [
       "          v1                      v2\n",
       "count   5572                    5572\n",
       "unique     2                    5169\n",
       "top      ham  Sorry, I'll call later\n",
       "freq    4825                      30"
      ]
     },
     "execution_count": 33,
     "metadata": {},
     "output_type": "execute_result"
    }
   ],
   "source": [
    "my_data.describe()"
   ]
  },
  {
   "cell_type": "code",
   "execution_count": 34,
   "metadata": {},
   "outputs": [
    {
     "data": {
      "text/html": [
       "<div>\n",
       "<style>\n",
       "    .dataframe thead tr:only-child th {\n",
       "        text-align: right;\n",
       "    }\n",
       "\n",
       "    .dataframe thead th {\n",
       "        text-align: left;\n",
       "    }\n",
       "\n",
       "    .dataframe tbody tr th {\n",
       "        vertical-align: top;\n",
       "    }\n",
       "</style>\n",
       "<table border=\"1\" class=\"dataframe\">\n",
       "  <thead>\n",
       "    <tr>\n",
       "      <th></th>\n",
       "      <th colspan=\"4\" halign=\"left\">v2</th>\n",
       "    </tr>\n",
       "    <tr>\n",
       "      <th></th>\n",
       "      <th>count</th>\n",
       "      <th>unique</th>\n",
       "      <th>top</th>\n",
       "      <th>freq</th>\n",
       "    </tr>\n",
       "    <tr>\n",
       "      <th>v1</th>\n",
       "      <th></th>\n",
       "      <th></th>\n",
       "      <th></th>\n",
       "      <th></th>\n",
       "    </tr>\n",
       "  </thead>\n",
       "  <tbody>\n",
       "    <tr>\n",
       "      <th>ham</th>\n",
       "      <td>4825</td>\n",
       "      <td>4516</td>\n",
       "      <td>Sorry, I'll call later</td>\n",
       "      <td>30</td>\n",
       "    </tr>\n",
       "    <tr>\n",
       "      <th>spam</th>\n",
       "      <td>747</td>\n",
       "      <td>653</td>\n",
       "      <td>Please call our customer service representativ...</td>\n",
       "      <td>4</td>\n",
       "    </tr>\n",
       "  </tbody>\n",
       "</table>\n",
       "</div>"
      ],
      "text/plain": [
       "        v2                                                               \n",
       "     count unique                                                top freq\n",
       "v1                                                                       \n",
       "ham   4825   4516                             Sorry, I'll call later   30\n",
       "spam   747    653  Please call our customer service representativ...    4"
      ]
     },
     "execution_count": 34,
     "metadata": {},
     "output_type": "execute_result"
    }
   ],
   "source": [
    "my_data.groupby('v1').describe()"
   ]
  },
  {
   "cell_type": "markdown",
   "metadata": {},
   "source": [
    "#### 5. Data Visualization"
   ]
  },
  {
   "cell_type": "code",
   "execution_count": 35,
   "metadata": {},
   "outputs": [
    {
     "data": {
      "text/html": [
       "<div>\n",
       "<style>\n",
       "    .dataframe thead tr:only-child th {\n",
       "        text-align: right;\n",
       "    }\n",
       "\n",
       "    .dataframe thead th {\n",
       "        text-align: left;\n",
       "    }\n",
       "\n",
       "    .dataframe tbody tr th {\n",
       "        vertical-align: top;\n",
       "    }\n",
       "</style>\n",
       "<table border=\"1\" class=\"dataframe\">\n",
       "  <thead>\n",
       "    <tr style=\"text-align: right;\">\n",
       "      <th></th>\n",
       "      <th>v1</th>\n",
       "      <th>v2</th>\n",
       "      <th>length</th>\n",
       "    </tr>\n",
       "  </thead>\n",
       "  <tbody>\n",
       "    <tr>\n",
       "      <th>0</th>\n",
       "      <td>ham</td>\n",
       "      <td>Go until jurong point, crazy.. Available only ...</td>\n",
       "      <td>111</td>\n",
       "    </tr>\n",
       "    <tr>\n",
       "      <th>1</th>\n",
       "      <td>ham</td>\n",
       "      <td>Ok lar... Joking wif u oni...</td>\n",
       "      <td>29</td>\n",
       "    </tr>\n",
       "    <tr>\n",
       "      <th>2</th>\n",
       "      <td>spam</td>\n",
       "      <td>Free entry in 2 a wkly comp to win FA Cup fina...</td>\n",
       "      <td>155</td>\n",
       "    </tr>\n",
       "    <tr>\n",
       "      <th>3</th>\n",
       "      <td>ham</td>\n",
       "      <td>U dun say so early hor... U c already then say...</td>\n",
       "      <td>49</td>\n",
       "    </tr>\n",
       "    <tr>\n",
       "      <th>4</th>\n",
       "      <td>ham</td>\n",
       "      <td>Nah I don't think he goes to usf, he lives aro...</td>\n",
       "      <td>61</td>\n",
       "    </tr>\n",
       "  </tbody>\n",
       "</table>\n",
       "</div>"
      ],
      "text/plain": [
       "     v1                                                 v2  length\n",
       "0   ham  Go until jurong point, crazy.. Available only ...     111\n",
       "1   ham                      Ok lar... Joking wif u oni...      29\n",
       "2  spam  Free entry in 2 a wkly comp to win FA Cup fina...     155\n",
       "3   ham  U dun say so early hor... U c already then say...      49\n",
       "4   ham  Nah I don't think he goes to usf, he lives aro...      61"
      ]
     },
     "execution_count": 35,
     "metadata": {},
     "output_type": "execute_result"
    }
   ],
   "source": [
    "my_data['length'] = my_data['v2'].apply(len)\n",
    "my_data.head()"
   ]
  },
  {
   "cell_type": "code",
   "execution_count": 36,
   "metadata": {},
   "outputs": [
    {
     "data": {
      "text/plain": [
       "<matplotlib.axes._subplots.AxesSubplot at 0x10b8f65f8>"
      ]
     },
     "execution_count": 36,
     "metadata": {},
     "output_type": "execute_result"
    },
    {
     "data": {
      "image/png": "[encoded data removed]",
      "text/plain": [
       "<matplotlib.figure.Figure at 0x10b8f6550>"
      ]
     },
     "metadata": {},
     "output_type": "display_data"
    }
   ],
   "source": [
    "# visualizing all the lengths and their frequency\n",
    "\n",
    "my_data['length'].hist(bins=150)"
   ]
  },
  {
   "cell_type": "code",
   "execution_count": 37,
   "metadata": {},
   "outputs": [
    {
     "data": {
      "text/plain": [
       "array([<matplotlib.axes._subplots.AxesSubplot object at 0x10b964ef0>,\n",
       "       <matplotlib.axes._subplots.AxesSubplot object at 0x1c0cb56ac8>], dtype=object)"
      ]
     },
     "execution_count": 37,
     "metadata": {},
     "output_type": "execute_result"
    },
    {
     "data": {
      "image/png": "[encoded data removed]",
      "text/plain": [
       "<matplotlib.figure.Figure at 0x1c16f21390>"
      ]
     },
     "metadata": {},
     "output_type": "display_data"
    }
   ],
   "source": [
    "# ham vs spam\n",
    "# lengths and frequency\n",
    "\n",
    "my_data.hist(column='length',by ='v1',bins=50,figsize = (10,4))"
   ]
  },
  {
   "cell_type": "markdown",
   "metadata": {},
   "source": [
    "#### 6. Preprocessing"
   ]
  },
  {
   "cell_type": "code",
   "execution_count": 38,
   "metadata": {},
   "outputs": [],
   "source": [
    "# Define a function to tokenize words that are no punctuations or stop words\n",
    "def text_process(mess):\n",
    "    \"\"\"\n",
    "    Takes in a string of text, then performs the following:\n",
    "    1. Remove all punctuation\n",
    "    2. Remove all stopwords\n",
    "    3. Returns a list of the cleaned text\n",
    "    \"\"\"\n",
    "    \n",
    "    # Remove all punctuation\n",
    "    import string\n",
    "    nopunc = [char for char in mess if char not in string.punctuation]\n",
    "    nopunc = \"\".join(nopunc)\n",
    "    \n",
    "    # Remove all stopwords\n",
    "    from nltk.corpus import stopwords\n",
    "    nopunc = nopunc.split()\n",
    "    clean_mess = [word for word in nopunc if word.lower() not in stopwords.words('english')]\n",
    "    \n",
    "    # Return a list of cleaned test\n",
    "    return clean_mess"
   ]
  },
  {
   "cell_type": "code",
   "execution_count": 39,
   "metadata": {},
   "outputs": [
    {
     "data": {
      "text/plain": [
       "0    [Go, jurong, point, crazy, Available, bugis, n...\n",
       "1                       [Ok, lar, Joking, wif, u, oni]\n",
       "2    [Free, entry, 2, wkly, comp, win, FA, Cup, fin...\n",
       "3        [U, dun, say, early, hor, U, c, already, say]\n",
       "4    [Nah, dont, think, goes, usf, lives, around, t...\n",
       "Name: v2, dtype: object"
      ]
     },
     "execution_count": 39,
     "metadata": {},
     "output_type": "execute_result"
    }
   ],
   "source": [
    "# testing function\n",
    "my_data['v2'].head(5).apply(text_process)"
   ]
  },
  {
   "cell_type": "code",
   "execution_count": 28,
   "metadata": {},
   "outputs": [
    {
     "data": {
      "text/plain": [
       "CountVectorizer(analyzer=<function text_process at 0x1c15507620>,\n",
       "        binary=False, decode_error='strict', dtype=<class 'numpy.int64'>,\n",
       "        encoding='utf-8', input='content', lowercase=True, max_df=1.0,\n",
       "        max_features=None, min_df=1, ngram_range=(1, 1), preprocessor=None,\n",
       "        stop_words=None, strip_accents=None,\n",
       "        token_pattern='(?u)\\\\b\\\\w\\\\w+\\\\b', tokenizer=None, vocabulary=None)"
      ]
     },
     "execution_count": 28,
     "metadata": {},
     "output_type": "execute_result"
    }
   ],
   "source": [
    "# counting the frequency of each of the words in the vector\n",
    "# bow_transformer is a class containing a frequency counter for any function that returns a list\n",
    "bow_transformer = CountVectorizer(analyzer=text_process)"
   ]
  },
  {
   "cell_type": "code",
   "execution_count": 42,
   "metadata": {},
   "outputs": [],
   "source": [
    "# sample of how it processes a list of words after being processed (text_process)\n",
    "mail_bow = bow_transformer.fit_transform(my_data['v2'])\n",
    "\n",
    "# a sparse matrix is created after fitting with count vectorizer"
   ]
  },
  {
   "cell_type": "code",
   "execution_count": 43,
   "metadata": {},
   "outputs": [
    {
     "name": "stdout",
     "output_type": "stream",
     "text": [
      "Shape of Sparse Matrix:  (5572, 11304)\n",
      "Amount of Non-Zero occurences:  50193\n",
      "sparsity: 0.08%\n"
     ]
    }
   ],
   "source": [
    "print ('Shape of Sparse Matrix: ', mail_bow.shape)\n",
    "print ('Amount of Non-Zero occurences: ', mail_bow.nnz)\n",
    "print ('sparsity: %.2f%%' % (100.0 * mail_bow.nnz /\n",
    "                             (mail_bow.shape[0] * mail_bow.shape[1])))\n",
    "\n",
    "# Comments:\n",
    "# Matrix is 5572 by 11304\n",
    "# There are 50k non zero entries in entire dataset\n",
    "# The occurance of non-zero (Sparsity) is 0.08%"
   ]
  },
  {
   "cell_type": "code",
   "execution_count": 44,
   "metadata": {},
   "outputs": [],
   "source": [
    "# Important words to understand:\n",
    "#tf -> term frequency\n",
    "#=number of times word appears in document / total words in document\n",
    "#idf -> invesrse document frequency\n",
    "#=log(number of documents / number of documents that contain the word)"
   ]
  },
  {
   "cell_type": "code",
   "execution_count": 45,
   "metadata": {},
   "outputs": [],
   "source": [
    "# Implementing TFIDF\n",
    "tfidf_transformer = TfidfTransformer().fit(mail_bow)\n",
    "mail_tfidf = tfidf_transformer.transform(mail_bow)\n",
    "\n",
    "# Comment:\n",
    "# Could just fit transform instead of just fit and then transform"
   ]
  },
  {
   "cell_type": "code",
   "execution_count": 46,
   "metadata": {},
   "outputs": [
    {
     "name": "stdout",
     "output_type": "stream",
     "text": [
      "(5572, 11304)\n"
     ]
    }
   ],
   "source": [
    "# check processed matrix\n",
    "print (mail_tfidf.shape)\n",
    "\n",
    "# comment:\n",
    "# this is rows x columns"
   ]
  },
  {
   "cell_type": "markdown",
   "metadata": {},
   "source": [
    "#### 7. Building a Data Pipeline"
   ]
  },
  {
   "cell_type": "code",
   "execution_count": 47,
   "metadata": {},
   "outputs": [
    {
     "name": "stdout",
     "output_type": "stream",
     "text": [
      "4457 1115 5572\n"
     ]
    }
   ],
   "source": [
    "# Building the train test set\n",
    "X_train, X_test, label_train, label_test = \\\n",
    "train_test_split(my_data['v2'], my_data['v1'], test_size=0.2, random_state = 42)\n",
    "\n",
    "print (len(X_train), len(X_test), len(label_train) + len(label_test))"
   ]
  },
  {
   "cell_type": "markdown",
   "metadata": {},
   "source": [
    "#### 8. Data Models"
   ]
  },
  {
   "cell_type": "code",
   "execution_count": 57,
   "metadata": {},
   "outputs": [
    {
     "name": "stdout",
     "output_type": "stream",
     "text": [
      "             precision    recall  f1-score   support\n",
      "\n",
      "        ham       1.00      0.94      0.97      1021\n",
      "       spam       0.62      0.99      0.76        94\n",
      "\n",
      "avg / total       0.97      0.95      0.95      1115\n",
      "\n"
     ]
    }
   ],
   "source": [
    "# Pipeline for Logistic Regression\n",
    "pipeline = Pipeline([('bow',CountVectorizer(analyzer =text_process)),\n",
    "                    ('tfidf',TfidfTransformer()),\n",
    "                    ('classifier',LogisticRegression())])\n",
    "\n",
    "# learning from model\n",
    "pipeline.fit(X_train,label_train)\n",
    "predictions = pipeline.predict(X_test)\n",
    "print (classification_report(predictions,label_test))"
   ]
  },
  {
   "cell_type": "code",
   "execution_count": 53,
   "metadata": {},
   "outputs": [
    {
     "name": "stdout",
     "output_type": "stream",
     "text": [
      "             precision    recall  f1-score   support\n",
      "\n",
      "        ham       1.00      0.98      0.99       985\n",
      "       spam       0.86      0.99      0.92       130\n",
      "\n",
      "avg / total       0.98      0.98      0.98      1115\n",
      "\n"
     ]
    }
   ],
   "source": [
    "from sklearn.linear_model import RidgeClassifier\n",
    "\n",
    "# Pipeline for Ridge Classifier\n",
    "pipeline = Pipeline([('bow',CountVectorizer(analyzer =text_process)),\n",
    "                    ('tfidf',TfidfTransformer()),\n",
    "                    ('classifier',RidgeClassifier(alpha=1))])\n",
    "\n",
    "# learning from model\n",
    "pipeline.fit(X_train,label_train)\n",
    "predictions = pipeline.predict(X_test)\n",
    "print (classification_report(predictions,label_test))"
   ]
  },
  {
   "cell_type": "code",
   "execution_count": 56,
   "metadata": {},
   "outputs": [
    {
     "name": "stdout",
     "output_type": "stream",
     "text": [
      "             precision    recall  f1-score   support\n",
      "\n",
      "        ham       1.00      0.96      0.98      1003\n",
      "       spam       0.75      1.00      0.85       112\n",
      "\n",
      "avg / total       0.97      0.97      0.97      1115\n",
      "\n"
     ]
    }
   ],
   "source": [
    "from sklearn.naive_bayes import MultinomialNB\n",
    "\n",
    "# Pipeline for Naive Bayes Multinomial classifier\n",
    "pipeline = Pipeline([('bow',CountVectorizer(analyzer =text_process)),\n",
    "                    ('tfidf',TfidfTransformer()),\n",
    "                    ('classifier',MultinomialNB(alpha=1))])\n",
    "\n",
    "# learning from model\n",
    "pipeline.fit(X_train,label_train)\n",
    "predictions = pipeline.predict(X_test)\n",
    "print (classification_report(predictions,label_test))"
   ]
  },
  {
   "cell_type": "code",
   "execution_count": 58,
   "metadata": {},
   "outputs": [
    {
     "name": "stdout",
     "output_type": "stream",
     "text": [
      "             precision    recall  f1-score   support\n",
      "\n",
      "        ham       1.00      0.98      0.99       978\n",
      "       spam       0.89      0.98      0.93       137\n",
      "\n",
      "avg / total       0.98      0.98      0.98      1115\n",
      "\n"
     ]
    }
   ],
   "source": [
    "from sklearn.svm import LinearSVC\n",
    "\n",
    "# Pipeline for Linear SVC\n",
    "pipeline = Pipeline([('bow',CountVectorizer(analyzer =text_process)),\n",
    "                    ('tfidf',TfidfTransformer()),\n",
    "                    ('classifier',LinearSVC())])\n",
    "\n",
    "# learning from model\n",
    "pipeline.fit(X_train,label_train)\n",
    "predictions = pipeline.predict(X_test)\n",
    "print (classification_report(predictions,label_test))"
   ]
  },
  {
   "cell_type": "markdown",
   "metadata": {},
   "source": [
    "#### 10. Model Optimization"
   ]
  },
  {
   "cell_type": "code",
   "execution_count": 71,
   "metadata": {},
   "outputs": [
    {
     "name": "stdout",
     "output_type": "stream",
     "text": [
      "# Tuning hyper-parameters for f1\n",
      "\n",
      "Best parameters set found on development set:\n",
      "\n",
      "{'C': 4.0, 'max_iter': 1000}\n",
      "\n",
      "Grid scores on development set:\n",
      "\n",
      "0.835 (+/-0.044) for {'C': 0.10000000000000001, 'max_iter': 1000}\n",
      "0.905 (+/-0.041) for {'C': 0.20000000000000001, 'max_iter': 1000}\n",
      "0.921 (+/-0.030) for {'C': 0.30000000000000004, 'max_iter': 1000}\n",
      "0.930 (+/-0.032) for {'C': 0.40000000000000002, 'max_iter': 1000}\n",
      "0.934 (+/-0.032) for {'C': 0.5, 'max_iter': 1000}\n",
      "0.935 (+/-0.034) for {'C': 0.59999999999999998, 'max_iter': 1000}\n",
      "0.937 (+/-0.035) for {'C': 0.70000000000000007, 'max_iter': 1000}\n",
      "0.938 (+/-0.036) for {'C': 0.80000000000000004, 'max_iter': 1000}\n",
      "0.939 (+/-0.036) for {'C': 0.90000000000000002, 'max_iter': 1000}\n",
      "0.941 (+/-0.032) for {'C': 1.0, 'max_iter': 1000}\n",
      "0.942 (+/-0.032) for {'C': 1.1000000000000001, 'max_iter': 1000}\n",
      "0.944 (+/-0.029) for {'C': 1.2000000000000002, 'max_iter': 1000}\n",
      "0.944 (+/-0.029) for {'C': 1.3000000000000003, 'max_iter': 1000}\n",
      "0.944 (+/-0.029) for {'C': 1.4000000000000001, 'max_iter': 1000}\n",
      "0.944 (+/-0.030) for {'C': 1.5000000000000002, 'max_iter': 1000}\n",
      "0.944 (+/-0.030) for {'C': 1.6000000000000001, 'max_iter': 1000}\n",
      "0.945 (+/-0.029) for {'C': 1.7000000000000002, 'max_iter': 1000}\n",
      "0.946 (+/-0.028) for {'C': 1.8000000000000003, 'max_iter': 1000}\n",
      "0.946 (+/-0.028) for {'C': 1.9000000000000001, 'max_iter': 1000}\n",
      "0.946 (+/-0.026) for {'C': 2.0, 'max_iter': 1000}\n",
      "0.946 (+/-0.026) for {'C': 2.1000000000000001, 'max_iter': 1000}\n",
      "0.947 (+/-0.027) for {'C': 2.2000000000000002, 'max_iter': 1000}\n",
      "0.947 (+/-0.027) for {'C': 2.3000000000000003, 'max_iter': 1000}\n",
      "0.947 (+/-0.027) for {'C': 2.4000000000000004, 'max_iter': 1000}\n",
      "0.947 (+/-0.027) for {'C': 2.5000000000000004, 'max_iter': 1000}\n",
      "0.947 (+/-0.027) for {'C': 2.6000000000000001, 'max_iter': 1000}\n",
      "0.947 (+/-0.027) for {'C': 2.7000000000000002, 'max_iter': 1000}\n",
      "0.947 (+/-0.027) for {'C': 2.8000000000000003, 'max_iter': 1000}\n",
      "0.948 (+/-0.026) for {'C': 2.9000000000000004, 'max_iter': 1000}\n",
      "0.948 (+/-0.026) for {'C': 3.0000000000000004, 'max_iter': 1000}\n",
      "0.949 (+/-0.028) for {'C': 3.1000000000000001, 'max_iter': 1000}\n",
      "0.949 (+/-0.028) for {'C': 3.2000000000000002, 'max_iter': 1000}\n",
      "0.949 (+/-0.028) for {'C': 3.3000000000000003, 'max_iter': 1000}\n",
      "0.949 (+/-0.028) for {'C': 3.4000000000000004, 'max_iter': 1000}\n",
      "0.949 (+/-0.028) for {'C': 3.5000000000000004, 'max_iter': 1000}\n",
      "0.949 (+/-0.028) for {'C': 3.6000000000000001, 'max_iter': 1000}\n",
      "0.949 (+/-0.029) for {'C': 3.7000000000000002, 'max_iter': 1000}\n",
      "0.950 (+/-0.027) for {'C': 3.8000000000000003, 'max_iter': 1000}\n",
      "0.950 (+/-0.027) for {'C': 3.9000000000000004, 'max_iter': 1000}\n",
      "0.950 (+/-0.026) for {'C': 4.0, 'max_iter': 1000}\n",
      "0.950 (+/-0.026) for {'C': 4.0999999999999996, 'max_iter': 1000}\n",
      "0.950 (+/-0.026) for {'C': 4.2000000000000002, 'max_iter': 1000}\n",
      "0.950 (+/-0.026) for {'C': 4.2999999999999998, 'max_iter': 1000}\n",
      "0.950 (+/-0.026) for {'C': 4.3999999999999995, 'max_iter': 1000}\n",
      "0.950 (+/-0.026) for {'C': 4.5, 'max_iter': 1000}\n",
      "0.950 (+/-0.026) for {'C': 4.5999999999999996, 'max_iter': 1000}\n",
      "0.950 (+/-0.026) for {'C': 4.7000000000000002, 'max_iter': 1000}\n",
      "0.950 (+/-0.026) for {'C': 4.7999999999999998, 'max_iter': 1000}\n",
      "0.950 (+/-0.026) for {'C': 4.9000000000000004, 'max_iter': 1000}\n",
      "\n",
      "Detailed classification report:\n",
      "\n",
      "The model is trained on the full development set.\n",
      "The scores are computed on the full evaluation set.\n",
      "\n",
      "             precision    recall  f1-score   support\n",
      "\n",
      "        ham       0.98      1.00      0.99       965\n",
      "       spam       0.97      0.89      0.93       150\n",
      "\n",
      "avg / total       0.98      0.98      0.98      1115\n",
      "\n",
      "\n"
     ]
    }
   ],
   "source": [
    "from sklearn.model_selection import GridSearchCV\n",
    "\n",
    "# Set the parameters by cross-validation\n",
    "tuned_parameters = [{'max_iter': [1000],\n",
    "                     'C': np.arange(0.1,5,0.1)  }]\n",
    "scores = ['f1']\n",
    "\n",
    "# Separate Data Pre-Process from Timeline\n",
    "data_pipeline = Pipeline([('bow',CountVectorizer(analyzer =text_process)),\n",
    "                         ('tfidf',TfidfTransformer())])\n",
    "\n",
    "for score in scores:\n",
    "    print(\"# Tuning hyper-parameters for %s\" % score)\n",
    "    print()\n",
    "    \n",
    "    \n",
    "    gridsearch = GridSearchCV(LinearSVC(),tuned_parameters, cv=5, scoring= '%s_macro' % score)\n",
    "\n",
    "    gridsearch.fit(data_pipeline.fit_transform(X_train), label_train)\n",
    "\n",
    "    print(\"Best parameters set found on development set:\")\n",
    "    print()\n",
    "    print(gridsearch.best_params_)\n",
    "    print()\n",
    "    print(\"Grid scores on development set:\")\n",
    "    print()\n",
    "    means = gridsearch.cv_results_['mean_test_score']\n",
    "    stds = gridsearch.cv_results_['std_test_score']\n",
    "    for mean, std, params in zip(means, stds, gridsearch.cv_results_['params']):\n",
    "        print(\"%0.3f (+/-%0.03f) for %r\"\n",
    "              % (mean, std * 2, params))\n",
    "    print()\n",
    "\n",
    "    print(\"Detailed classification report:\")\n",
    "    print()\n",
    "    print(\"The model is trained on the full development set.\")\n",
    "    print(\"The scores are computed on the full evaluation set.\")\n",
    "    print()\n",
    "    y_true, y_pred = label_test, gridsearch.predict(data_pipeline.transform(X_test))\n",
    "    print(classification_report(y_true, y_pred))\n",
    "    print()\n"
   ]
  },
  {
   "cell_type": "code",
   "execution_count": 72,
   "metadata": {},
   "outputs": [
    {
     "name": "stdout",
     "output_type": "stream",
     "text": [
      "             precision    recall  f1-score   support\n",
      "\n",
      "        ham       1.00      0.98      0.99       978\n",
      "       spam       0.89      0.97      0.93       137\n",
      "\n",
      "avg / total       0.98      0.98      0.98      1115\n",
      "\n"
     ]
    }
   ],
   "source": [
    "from sklearn.svm import LinearSVC\n",
    "\n",
    "# Pipeline for Linear SVC\n",
    "pipeline = Pipeline([('bow',CountVectorizer(analyzer =text_process)),\n",
    "                    ('tfidf',TfidfTransformer()),\n",
    "                    ('classifier',LinearSVC(C=4))])\n",
    "\n",
    "# learning from model\n",
    "pipeline.fit(X_train,label_train)\n",
    "predictions = pipeline.predict(X_test)\n",
    "print (classification_report(predictions,label_test))"
   ]
  },
  {
   "cell_type": "code",
   "execution_count": null,
   "metadata": {},
   "outputs": [],
   "source": []
  }
 ],
 "metadata": {
  "kernelspec": {
   "display_name": "Python 3",
   "language": "python",
   "name": "python3"
  },
  "language_info": {
   "codemirror_mode": {
    "name": "ipython",
    "version": 3
   },
   "file_extension": ".py",
   "mimetype": "text/x-python",
   "name": "python",
   "nbconvert_exporter": "python",
   "pygments_lexer": "ipython3",
   "version": "3.6.3"
  }
 },
 "nbformat": 4,
 "nbformat_minor": 2
}
