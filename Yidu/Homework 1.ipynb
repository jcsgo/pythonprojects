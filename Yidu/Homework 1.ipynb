{
 "cells": [
  {
   "cell_type": "markdown",
   "metadata": {},
   "source": [
    "## Housing Prices in Singapore"
   ]
  },
  {
   "cell_type": "markdown",
   "metadata": {},
   "source": [
    "This exercise will attempt to predict resale housing prices in Singapore"
   ]
  },
  {
   "cell_type": "code",
   "execution_count": null,
   "metadata": {
    "collapsed": true
   },
   "outputs": [],
   "source": [
    "# data \n",
    "import pandas as pd\n",
    "import numpy as np\n",
    "\n",
    "# directories\n",
    "import os\n",
    "#os.getcwd() #get working directory\n",
    "\n",
    "# To plot pretty figures\n",
    "%matplotlib inline\n",
    "import matplotlib\n",
    "import matplotlib.pyplot as plt\n"
   ]
  },
  {
   "cell_type": "code",
   "execution_count": null,
   "metadata": {},
   "outputs": [],
   "source": [
    "# Set the relative director for training data\n",
    "root_dir = \"~\"\n",
    "train_data_dir = os.path.join(root_dir,\"pythonprojects\",\"Yidu\",\"HW1 Data\",\"train.csv\")\n",
    "test_data_dir = os.path.join(root_dir,\"pythonprojects\",\"Yidu\",\"HW1 Data\",\"test.csv\")\n",
    "\n",
    "# read the data frame\n",
    "train_data = pd.read_csv(train_data_dir)\n",
    "test_data = pd.read_csv(test_data_dir)\n",
    "\n",
    "# Print out number of instances for each dataset\n",
    "print(\"Training Data has {0} instances\".format(len(train_data)))\n",
    "print(\"Test Data has {0} instances\".format(len(test_data)))"
   ]
  },
  {
   "cell_type": "code",
   "execution_count": null,
   "metadata": {},
   "outputs": [],
   "source": [
    "print(train_data.columns)\n",
    "train_data.describe()"
   ]
  },
  {
   "cell_type": "markdown",
   "metadata": {},
   "source": [
    "### Data Exploration"
   ]
  },
  {
   "cell_type": "code",
   "execution_count": null,
   "metadata": {},
   "outputs": [],
   "source": [
    "train_data.info()"
   ]
  },
  {
   "cell_type": "code",
   "execution_count": null,
   "metadata": {},
   "outputs": [],
   "source": [
    "train_data.hist(bins=50, figsize=(20,15))\n",
    "plt.show()"
   ]
  },
  {
   "cell_type": "code",
   "execution_count": null,
   "metadata": {},
   "outputs": [],
   "source": [
    "train_data.plot(kind=\"scatter\", x=\"longitude\", y=\"latitude\", alpha=0.01)\n",
    "plt.show()"
   ]
  },
  {
   "cell_type": "code",
   "execution_count": null,
   "metadata": {},
   "outputs": [],
   "source": [
    "# Splitting y_train\n",
    "y_train_data = train_data.loc[:,'resale_price']"
   ]
  },
  {
   "cell_type": "code",
   "execution_count": null,
   "metadata": {},
   "outputs": [],
   "source": [
    "# Getting x_train_data and x_test_data\n",
    "\n",
    "x_train_data = train_data.loc[:, train_data.columns != 'resale_price']\n",
    "x_train_data = x_train_data.loc[:, x_train_data.columns != 'index']\n",
    "x_train_data.info()\n",
    "\n",
    "x_test_data = test_data\n",
    "x_test_data = x_test_data.loc[:, x_test_data.columns != 'index']\n",
    "x_test_data.info()"
   ]
  },
  {
   "cell_type": "markdown",
   "metadata": {},
   "source": [
    "### Data Preparation"
   ]
  },
  {
   "cell_type": "code",
   "execution_count": null,
   "metadata": {},
   "outputs": [],
   "source": [
    "x_train_data.head()"
   ]
  },
  {
   "cell_type": "code",
   "execution_count": null,
   "metadata": {},
   "outputs": [],
   "source": [
    "# uniqueness of datasets\n",
    "print(\"street_name: \", len(set(x_train_data['street_name'])))\n",
    "print(\"town: \", len(set(x_train_data['town'])))\n",
    "print(\"flat_model: \", len(set(x_train_data['flat_model'])))\n",
    "print(\"storey_range:\", len(set(x_train_data['storey_range'])))\n",
    "print(\"floor:\", len(set(x_train_data['floor'])))\n",
    "print(\"flat model: \", len(set(x_train_data['flat_model'])))\n",
    "print(\"postal code: \", len(set(x_train_data['postal_code'])))\n",
    "print(\"block: \", len(set(x_train_data['block'])))"
   ]
  },
  {
   "cell_type": "code",
   "execution_count": null,
   "metadata": {
    "collapsed": true
   },
   "outputs": [],
   "source": [
    "# creating new variables\n",
    "x_train_data['lease_age'] = 2018 - x_train_data['lease_commence_date']\n",
    "x_test_data['lease_age'] = 2018 - x_test_data['lease_commence_date']"
   ]
  },
  {
   "cell_type": "code",
   "execution_count": null,
   "metadata": {
    "collapsed": true
   },
   "outputs": [],
   "source": [
    "# dropping variables\n",
    "\n",
    "# street name - TOO MANY UNIQUE POINTS, PROBLEM WITH ENCODING\n",
    "x_train_data = x_train_data.loc[:, x_train_data.columns != 'street_name']\n",
    "x_test_data = x_test_data.loc[:, x_test_data.columns != 'street_name']\n",
    "\n",
    "# floor and storey range too similar, will drop STOREY RANGE \n",
    "x_train_data = x_train_data.loc[:, x_train_data.columns != 'storey_range']\n",
    "x_test_data = x_test_data.loc[:, x_test_data.columns != 'storey_range']\n",
    "\n",
    "# lease age > lease commence date, dropp lease commence date\n",
    "x_train_data = x_train_data.loc[:, x_train_data.columns != 'lease_commence_date']\n",
    "x_test_data = x_test_data.loc[:, x_test_data.columns != 'lease_commence_date']\n",
    "\n",
    "# dropping postal code - since we already have town\n",
    "x_train_data = x_train_data.loc[:, x_train_data.columns != 'postal_code']\n",
    "x_test_data = x_test_data.loc[:, x_test_data.columns != 'postal_code']\n",
    "\n",
    "# dropping block - too unique, probably not that important\n",
    "x_train_data = x_train_data.loc[:, x_train_data.columns != 'block']\n",
    "x_test_data = x_test_data.loc[:, x_test_data.columns != 'block']\n",
    "\n",
    "# dropping lat and long - already have town\n",
    "x_train_data = x_train_data.loc[:, x_train_data.columns != 'latitude']\n",
    "x_test_data = x_test_data.loc[:, x_test_data.columns != 'latitude']\n",
    "\n",
    "x_train_data = x_train_data.loc[:, x_train_data.columns != 'longitude']\n",
    "x_test_data = x_test_data.loc[:, x_test_data.columns != 'longitude']\n",
    "\n",
    "# dropping month - already have lease_age\n",
    "x_train_data = x_train_data.loc[:, x_train_data.columns != 'month']\n",
    "x_test_data = x_test_data.loc[:, x_test_data.columns != 'month']\n"
   ]
  },
  {
   "cell_type": "code",
   "execution_count": null,
   "metadata": {},
   "outputs": [],
   "source": [
    "# check before ecoding\n",
    "x_train_data.head()"
   ]
  },
  {
   "cell_type": "markdown",
   "metadata": {},
   "source": [
    "One Hot Encoding"
   ]
  },
  {
   "cell_type": "code",
   "execution_count": null,
   "metadata": {},
   "outputs": [],
   "source": [
    "set(x_train_data['flat_type'])"
   ]
  },
  {
   "cell_type": "code",
   "execution_count": null,
   "metadata": {},
   "outputs": [],
   "source": [
    " def map_flat_type_bedroom(flat_type):\n",
    "    if flat_type == '1 ROOM':\n",
    "        no_bedroom = 0\n",
    "    elif flat_type == '2 ROOM':\n",
    "        no_bedroom = 1\n",
    "    elif flat_type == '3 ROOM':\n",
    "        no_bedroom = 2\n",
    "    elif flat_type == '4 ROOM':\n",
    "        no_bedroom = 3\n",
    "    elif flat_type == '5 ROOM':\n",
    "        no_bedroom = 3\n",
    "    elif flat_type == 'EXECUTIVE':\n",
    "        no_bedroom = 3\n",
    "    elif flat_type == 'MULTI GENERATION':\n",
    "        no_bedroom = 4\n",
    "    return (no_bedroom)\n",
    "\n",
    " def map_flat_type_bath(flat_type):\n",
    "    if flat_type == '1 ROOM':\n",
    "        no_bath = 1\n",
    "    elif flat_type == '2 ROOM':\n",
    "        no_bath = 1\n",
    "    elif flat_type == '3 ROOM':\n",
    "        no_bath = 2\n",
    "    elif flat_type == '4 ROOM':\n",
    "        no_bath = 2\n",
    "    elif flat_type == '5 ROOM':\n",
    "        no_bath = 2\n",
    "    elif flat_type == 'EXECUTIVE':\n",
    "        no_bath = 2\n",
    "    elif flat_type == 'MULTI GENERATION':\n",
    "        no_bath = 3\n",
    "    return (no_bath)"
   ]
  },
  {
   "cell_type": "code",
   "execution_count": null,
   "metadata": {
    "collapsed": true
   },
   "outputs": [],
   "source": [
    "x_train_data['no_bath']=x_train_data['flat_type'].apply(map_flat_type_bath)\n",
    "x_train_data['no_bedroom']=x_train_data['flat_type'].apply(map_flat_type_bedroom)"
   ]
  },
  {
   "cell_type": "code",
   "execution_count": null,
   "metadata": {},
   "outputs": [],
   "source": [
    "x_train_data.head()"
   ]
  },
  {
   "cell_type": "code",
   "execution_count": null,
   "metadata": {},
   "outputs": [],
   "source": [
    "#filling NA's with the median of the column:\n",
    "x_train_data = x_train_data.fillna(x_train_data.median())\n",
    "x_test_data = x_test_data.fillna(x_test_data.median())"
   ]
  },
  {
   "cell_type": "code",
   "execution_count": null,
   "metadata": {},
   "outputs": [],
   "source": [
    "x_train_data.info()"
   ]
  },
  {
   "cell_type": "code",
   "execution_count": null,
   "metadata": {},
   "outputs": [],
   "source": [
    "# Encoding categorical variables\n",
    "\n",
    "x_train_encoded = pd.get_dummies(x_train_data)\n",
    "\n",
    "# Visualize\n",
    "x_train_encoded.columns"
   ]
  },
  {
   "cell_type": "markdown",
   "metadata": {},
   "source": [
    "### Model Selection"
   ]
  },
  {
   "cell_type": "markdown",
   "metadata": {},
   "source": [
    "#### Linear Regression"
   ]
  },
  {
   "cell_type": "code",
   "execution_count": null,
   "metadata": {},
   "outputs": [],
   "source": [
    "import sklearn.linear_model\n",
    "from sklearn.model_selection import cross_val_score\n",
    "\n",
    "lin_model = sklearn.linear_model.LinearRegression()\n",
    "lin_scores = cross_val_score(lin_model, x_train_encoded, y_train_data,\n",
    "                         scoring=\"neg_mean_absolute_error\", cv=3)\n",
    "model1_mae_scores = (-lin_scores)\n",
    "print(model1_mae_scores)"
   ]
  },
  {
   "cell_type": "code",
   "execution_count": null,
   "metadata": {},
   "outputs": [],
   "source": [
    "some_data = x_train_encoded.iloc[:5]\n",
    "print(some_data)\n",
    "print(y_train_data.iloc[:5])"
   ]
  },
  {
   "cell_type": "code",
   "execution_count": null,
   "metadata": {},
   "outputs": [],
   "source": [
    "lin_model.fit(x_train_encoded, y_train_data)\n",
    "y_predict = lin_model.predict(some_data)\n",
    "print(y_predict)\n",
    "print(list(y_train_data.iloc[:5]))"
   ]
  },
  {
   "cell_type": "markdown",
   "metadata": {},
   "source": [
    "#### SGD Regressor"
   ]
  },
  {
   "cell_type": "code",
   "execution_count": null,
   "metadata": {},
   "outputs": [],
   "source": [
    "sgdr_model = sklearn.linear_model.SGDRegressor()\n",
    "sgdr_scores = cross_val_score(sgdr_model, x_train_encoded, y_train_data,\n",
    "                         scoring=\"neg_mean_absolute_error\", cv=3)\n",
    "sgdr_mae_scores = -sgdr_scores\n",
    "print(sgdr_mae_scores)"
   ]
  },
  {
   "cell_type": "code",
   "execution_count": null,
   "metadata": {},
   "outputs": [],
   "source": [
    "sgdr_model.fit(x_train_encoded, y_train_data)\n",
    "y_predict = sgdr_model.predict(some_data)\n",
    "print(y_predict)\n",
    "print(list(y_train_data.iloc[:5]))"
   ]
  },
  {
   "cell_type": "markdown",
   "metadata": {},
   "source": [
    "#### Lasso Regression"
   ]
  },
  {
   "cell_type": "code",
   "execution_count": null,
   "metadata": {},
   "outputs": [],
   "source": [
    "lasso_model = sklearn.linear_model.Lasso()\n",
    "lasso_scores = cross_val_score(lasso_model, x_train_encoded, y_train_data,\n",
    "                         scoring=\"neg_mean_absolute_error\", cv=3)\n",
    "lasso_mae_scores = -lasso_scores\n",
    "print(lasso_mae_scores)"
   ]
  },
  {
   "cell_type": "code",
   "execution_count": null,
   "metadata": {},
   "outputs": [],
   "source": [
    "lasso_model.fit(x_train_encoded, y_train_data)\n",
    "y_predict = lasso_model.predict(some_data)\n",
    "print(y_predict)\n",
    "print(list(y_train_data.iloc[:5]))"
   ]
  },
  {
   "cell_type": "code",
   "execution_count": null,
   "metadata": {
    "collapsed": true
   },
   "outputs": [],
   "source": [
    "from sklearn.svm import SVR\n",
    "\n",
    "svm_reg = SVR(kernel=\"linear\")\n",
    "svm_reg_scores = cross_val_score(svm_reg, x_train_encoded, y_train_data,\n",
    "                         scoring=\"neg_mean_absolute_error\", cv=3)\n",
    "svm_reg_mae_scores = -lasso_scores\n",
    "print(svm_reg_mae_scores)"
   ]
  },
  {
   "cell_type": "code",
   "execution_count": null,
   "metadata": {
    "collapsed": true
   },
   "outputs": [],
   "source": [
    "svm_reg.fit(x_train_encoded, y_train_data)\n",
    "y_predict = svm_reg_model.predict(some_data)\n",
    "print(y_predict)\n",
    "print(list(y_train_data.iloc[:5]))"
   ]
  },
  {
   "cell_type": "code",
   "execution_count": null,
   "metadata": {
    "collapsed": true
   },
   "outputs": [],
   "source": []
  }
 ],
 "metadata": {
  "kernelspec": {
   "display_name": "Python 3",
   "language": "python",
   "name": "python3"
  },
  "language_info": {
   "codemirror_mode": {
    "name": "ipython",
    "version": 3
   },
   "file_extension": ".py",
   "mimetype": "text/x-python",
   "name": "python",
   "nbconvert_exporter": "python",
   "pygments_lexer": "ipython3",
   "version": "3.6.3"
  }
 },
 "nbformat": 4,
 "nbformat_minor": 2
}
